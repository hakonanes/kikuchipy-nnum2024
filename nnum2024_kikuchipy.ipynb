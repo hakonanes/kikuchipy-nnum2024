{
 "cells": [
  {
   "cell_type": "markdown",
   "id": "ce97f3e0-cdca-4058-87e0-65f69cf37c60",
   "metadata": {},
   "source": [
    "# Introduction to kikuchipy\n",
    "\n",
    "## NNUM in Oslo, Norway June 4, 2024\n",
    "\n",
    "In this tutorial we will characterize a transmission Kikuchi diffraction (TKD) dataset of polycrystalline gold by Hough indexing and pattern matching.\n",
    "The results will be evaluated by using geometrical TKD simulations and comparing indexing results to pre-indexing maps.\n",
    "\n",
    "The dataset is gracefully provided by Alice Bastos da Silva from the Technical University of Denmark (DTU).\n",
    "\n",
    "Steps:\n",
    "\n",
    "1. Load and inspect data\n",
    "2. Specify candidate phases\n",
    "3. Calibrate detector-sample geometry (projection/pattern center)\n",
    "4. Hough indexing\n",
    "5. Dictionary indexing\n",
    "6. Orientation refinement\n",
    "\n",
    "Documentation of tools we use:\n",
    "\n",
    "* kikuchipy: https://kikuchipy.org\n",
    "* HyperSpy: https://hyperspy.org\n",
    "* PyEBSDIndex: https://pyebsdindex.readthedocs.io\n",
    "* orix: https://orix.readthedocs.io\n",
    "* diffsims: https://diffsims.readthedocs.io\n",
    "* EMsoft (indirectly): https://github.com/EMsoft-org/EMsoft"
   ]
  },
  {
   "cell_type": "markdown",
   "id": "22c37380-72a0-4924-8d4d-c488fbd46a4b",
   "metadata": {},
   "source": [
    "Import all necessary functionality"
   ]
  },
  {
   "cell_type": "code",
   "execution_count": 132,
   "id": "398de4ef-43d8-4b27-b5f0-70d1ebe1992e",
   "metadata": {},
   "outputs": [],
   "source": [
    "# Replace 'inline' for 'qt5' (from PyQt5 package) for interactive plotting\n",
    "%matplotlib qt5\n",
    "\n",
    "from pathlib import Path\n",
    "\n",
    "import matplotlib.pyplot as plt\n",
    "import numpy as np\n",
    "\n",
    "from diffsims.crystallography import ReciprocalLatticeVector\n",
    "import hyperspy.api as hs\n",
    "import kikuchipy as kp\n",
    "from orix import io, plot, sampling\n",
    "from orix.crystal_map import Phase, PhaseList\n",
    "from orix.quaternion import Orientation, Rotation\n",
    "from orix.vector import Vector3d\n",
    "\n",
    "\n",
    "#plt.rcParams.update(\n",
    "#    {\"figure.facecolor\": \"w\", \"font.size\": 15, \"figure.dpi\": 100}\n",
    "#)"
   ]
  },
  {
   "cell_type": "markdown",
   "id": "ff7aa072-e7bb-4e3a-8cf4-06c4c30821ea",
   "metadata": {},
   "source": [
    "## 1. Load and inspect data"
   ]
  },
  {
   "cell_type": "markdown",
   "id": "1ae23a2c-ca23-4bb7-bf53-fb4af90915bd",
   "metadata": {},
   "source": [
    "Load data (or download to cache for the first time; subsequent calls will fetch the cached data)"
   ]
  },
  {
   "cell_type": "code",
   "execution_count": 2,
   "id": "f15e2a1f-064d-4bfa-9103-0322dd07ccad",
   "metadata": {},
   "outputs": [],
   "source": [
    "path_data = Path(\"/Users/hakon/data/ebsd/alice_fanta_tkd/2\")\n",
    "path_res = path_data / \"results\""
   ]
  },
  {
   "cell_type": "code",
   "execution_count": 3,
   "id": "4890a828-4a2f-41da-ba32-eecbb5760e6a",
   "metadata": {},
   "outputs": [],
   "source": [
    "path_tkd = path_data / \"20nmAu_2019-03-12_02.hdf5\"\n",
    "s = kp.load(path_tkd, lazy=False)"
   ]
  },
  {
   "cell_type": "code",
   "execution_count": 4,
   "id": "f1c25ff2-3a20-45ce-8473-b41889a665c6",
   "metadata": {},
   "outputs": [
    {
     "data": {
      "text/plain": [
       "<EBSD, title: 20nmAu_2019-03-12_02..., dimensions: (51, 61|320, 240)>"
      ]
     },
     "execution_count": 4,
     "metadata": {},
     "output_type": "execute_result"
    }
   ],
   "source": [
    "s"
   ]
  },
  {
   "cell_type": "code",
   "execution_count": 5,
   "id": "41394a5e-18b7-4580-b54b-63fb63ee50d0",
   "metadata": {},
   "outputs": [
    {
     "data": {
      "text/html": [
       "<ul style=\"margin: 0px; list-style-position: outside;\">\n",
       "                    <details open>\n",
       "                    <summary style=\"display: list-item;\">\n",
       "                    <li style=\"display: inline;\">\n",
       "                    Acquisition_instrument\n",
       "                    </li></summary>\n",
       "                    <ul style=\"margin: 0px; list-style-position: outside;\">\n",
       "                    <details closed>\n",
       "                    <summary style=\"display: list-item;\">\n",
       "                    <li style=\"display: inline;\">\n",
       "                    SEM\n",
       "                    </li></summary>\n",
       "                    \n",
       "    <ul style=\"margin: 0px; list-style-position: outside;\">\n",
       "    <li style='margin-left:1em; padding-left: 0.5em'>beam_energy = 30.0</li></ul>\n",
       "    \n",
       "    <ul style=\"margin: 0px; list-style-position: outside;\">\n",
       "    <li style='margin-left:1em; padding-left: 0.5em'>magnification = 100000.0</li></ul>\n",
       "    \n",
       "    <ul style=\"margin: 0px; list-style-position: outside;\">\n",
       "    <li style='margin-left:1em; padding-left: 0.5em'>working_distance = 5.026599722</li></ul>\n",
       "    </details></ul></details></ul><ul style=\"margin: 0px; list-style-position: outside;\">\n",
       "                    <details open>\n",
       "                    <summary style=\"display: list-item;\">\n",
       "                    <li style=\"display: inline;\">\n",
       "                    General\n",
       "                    </li></summary>\n",
       "                    \n",
       "    <ul style=\"margin: 0px; list-style-position: outside;\">\n",
       "    <li style='margin-left:1em; padding-left: 0.5em'>original_filename = W:\\P87500-Alice\\Alice2019\\PenumbraFebMarch2019\\20nmAu_std\\Au20_Std_30KV_1-7nA_ap30_Sp5_DD5_DT5-8_HV_dyn__400p.bcf</li></ul>\n",
       "    \n",
       "    <ul style=\"margin: 0px; list-style-position: outside;\">\n",
       "    <li style='margin-left:1em; padding-left: 0.5em'>title = 20nmAu_2019-03-12_02...</li></ul>\n",
       "    </details></ul><ul style=\"margin: 0px; list-style-position: outside;\">\n",
       "                    <details open>\n",
       "                    <summary style=\"display: list-item;\">\n",
       "                    <li style=\"display: inline;\">\n",
       "                    Signal\n",
       "                    </li></summary>\n",
       "                    \n",
       "    <ul style=\"margin: 0px; list-style-position: outside;\">\n",
       "    <li style='margin-left:1em; padding-left: 0.5em'>signal_type = EBSD</li></ul>\n",
       "    </details></ul>"
      ],
      "text/plain": [
       "├── Acquisition_instrument\n",
       "│   └── SEM\n",
       "│       ├── beam_energy = 30.0\n",
       "│       ├── magnification = 100000.0\n",
       "│       └── working_distance = 5.026599722\n",
       "├── General\n",
       "│   ├── original_filename = W:\\P87500-Alice\\Alice2019\\PenumbraFebMarch2019\\20nmAu_std\\Au20_Std_30KV_1-7nA_ap30_Sp5_DD5_DT5-8_HV_dyn__400p.bcf\n",
       "│   └── title = 20nmAu_2019-03-12_02...\n",
       "└── Signal\n",
       "    └── signal_type = EBSD"
      ]
     },
     "execution_count": 5,
     "metadata": {},
     "output_type": "execute_result"
    }
   ],
   "source": [
    "s.metadata"
   ]
  },
  {
   "cell_type": "code",
   "execution_count": 6,
   "id": "71759807-0a91-495c-a944-ec2fbbbb71ea",
   "metadata": {},
   "outputs": [
    {
     "data": {
      "text/html": [
       "\n",
       "    <ul style=\"margin: 0px; list-style-position: outside;\">\n",
       "    <li style='margin-left:1em; padding-left: 0.5em'>CameraTilt = 5.824999998357347</li></ul>\n",
       "    <ul style=\"margin: 0px; list-style-position: outside;\">\n",
       "                    <details open>\n",
       "                    <summary style=\"display: list-item;\">\n",
       "                    <li style=\"display: inline;\">\n",
       "                    Coordinate Systems\n",
       "                    </li></summary>\n",
       "                    \n",
       "    <ul style=\"margin: 0px; list-style-position: outside;\">\n",
       "    <li style='margin-left:1em; padding-left: 0.5em'>ESPRIT Coordinates = array([[254, 254, 254, ..., 254, 254, 254],\n",
       "       [254, 254, 254, ..., 254, 2 ... ..., 254, 254, 254],\n",
       "       [254, 254, 254, ..., 254, 254, 254]], dtype=uint8)</li></ul>\n",
       "    \n",
       "    <ul style=\"margin: 0px; list-style-position: outside;\">\n",
       "    <li style='margin-left:1em; padding-left: 0.5em'>ID = 5</li></ul>\n",
       "    </details></ul>\n",
       "    <ul style=\"margin: 0px; list-style-position: outside;\">\n",
       "    <li style='margin-left:1em; padding-left: 0.5em'>DetectorFullHeightMicrons = 23700</li></ul>\n",
       "    \n",
       "    <ul style=\"margin: 0px; list-style-position: outside;\">\n",
       "    <li style='margin-left:1em; padding-left: 0.5em'>DetectorFullWidthMicrons = 31600</li></ul>\n",
       "    \n",
       "    <ul style=\"margin: 0px; list-style-position: outside;\">\n",
       "    <li style='margin-left:1em; padding-left: 0.5em'>Grid Type = isometric</li></ul>\n",
       "    \n",
       "    <ul style=\"margin: 0px; list-style-position: outside;\">\n",
       "    <li style='margin-left:1em; padding-left: 0.5em'>KV = 30.0</li></ul>\n",
       "    \n",
       "    <ul style=\"margin: 0px; list-style-position: outside;\">\n",
       "    <li style='margin-left:1em; padding-left: 0.5em'>MADMax = 1.8</li></ul>\n",
       "    \n",
       "    <ul style=\"margin: 0px; list-style-position: outside;\">\n",
       "    <li style='margin-left:1em; padding-left: 0.5em'>Magnification = 100000.0</li></ul>\n",
       "    \n",
       "    <ul style=\"margin: 0px; list-style-position: outside;\">\n",
       "    <li style='margin-left:1em; padding-left: 0.5em'>MapStepFactor = 1.0</li></ul>\n",
       "    \n",
       "    <ul style=\"margin: 0px; list-style-position: outside;\">\n",
       "    <li style='margin-left:1em; padding-left: 0.5em'>MaxRadonBandCount = 12</li></ul>\n",
       "    \n",
       "    <ul style=\"margin: 0px; list-style-position: outside;\">\n",
       "    <li style='margin-left:1em; padding-left: 0.5em'>MinIndexedBands = 5</li></ul>\n",
       "    \n",
       "    <ul style=\"margin: 0px; list-style-position: outside;\">\n",
       "    <li style='margin-left:1em; padding-left: 0.5em'>NCOLS = 299</li></ul>\n",
       "    \n",
       "    <ul style=\"margin: 0px; list-style-position: outside;\">\n",
       "    <li style='margin-left:1em; padding-left: 0.5em'>NPoints = 3111</li></ul>\n",
       "    \n",
       "    <ul style=\"margin: 0px; list-style-position: outside;\">\n",
       "    <li style='margin-left:1em; padding-left: 0.5em'>NROWS = 258</li></ul>\n",
       "    \n",
       "    <ul style=\"margin: 0px; list-style-position: outside;\">\n",
       "    <li style='margin-left:1em; padding-left: 0.5em'>OriginalFile = W:\\P87500-Alice\\Alice2019\\PenumbraFebMarch2019\\20nmAu_std\\Au20_Std_30KV_1-7nA_ap30_Sp5_DD5_DT5-8_HV_dyn__400p.bcf</li></ul>\n",
       "    \n",
       "    <ul style=\"margin: 0px; list-style-position: outside;\">\n",
       "    <li style='margin-left:1em; padding-left: 0.5em'>PatternHeight = 240</li></ul>\n",
       "    \n",
       "    <ul style=\"margin: 0px; list-style-position: outside;\">\n",
       "    <li style='margin-left:1em; padding-left: 0.5em'>PatternWidth = 320</li></ul>\n",
       "    <ul style=\"margin: 0px; list-style-position: outside;\">\n",
       "                    <details open>\n",
       "                    <summary style=\"display: list-item;\">\n",
       "                    <li style=\"display: inline;\">\n",
       "                    Phases\n",
       "                    </li></summary>\n",
       "                    <ul style=\"margin: 0px; list-style-position: outside;\">\n",
       "                    <details closed>\n",
       "                    <summary style=\"display: list-item;\">\n",
       "                    <li style=\"display: inline;\">\n",
       "                    1\n",
       "                    </li></summary>\n",
       "                    <ul style=\"margin: 0px; list-style-position: outside;\">\n",
       "                    <details closed>\n",
       "                    <summary style=\"display: list-item;\">\n",
       "                    <li style=\"display: inline;\">\n",
       "                    AtomPositions\n",
       "                    </li></summary>\n",
       "                    \n",
       "    <ul style=\"margin: 0px; list-style-position: outside;\">\n",
       "    <li style='margin-left:1em; padding-left: 0.5em'>1 = Au,0,0,0,1,0</li></ul>\n",
       "    </details></ul>\n",
       "    <ul style=\"margin: 0px; list-style-position: outside;\">\n",
       "    <li style='margin-left:1em; padding-left: 0.5em'>Formula = Au4</li></ul>\n",
       "    \n",
       "    <ul style=\"margin: 0px; list-style-position: outside;\">\n",
       "    <li style='margin-left:1em; padding-left: 0.5em'>IT = 225</li></ul>\n",
       "    \n",
       "    <ul style=\"margin: 0px; list-style-position: outside;\">\n",
       "    <li style='margin-left:1em; padding-left: 0.5em'>LatticeConstants = array([ 4.079,  4.079,  4.079, 90.   , 90.   , 90.   ], dtype=float32)</li></ul>\n",
       "    \n",
       "    <ul style=\"margin: 0px; list-style-position: outside;\">\n",
       "    <li style='margin-left:1em; padding-left: 0.5em'>Name = Gold</li></ul>\n",
       "    \n",
       "    <ul style=\"margin: 0px; list-style-position: outside;\">\n",
       "    <li style='margin-left:1em; padding-left: 0.5em'>Setting = 1</li></ul>\n",
       "    \n",
       "    <ul style=\"margin: 0px; list-style-position: outside;\">\n",
       "    <li style='margin-left:1em; padding-left: 0.5em'>SpaceGroup = F m#ovl3m</li></ul>\n",
       "    </details></ul></details></ul>\n",
       "    <ul style=\"margin: 0px; list-style-position: outside;\">\n",
       "    <li style='margin-left:1em; padding-left: 0.5em'>PixelByteCount = 2</li></ul>\n",
       "    \n",
       "    <ul style=\"margin: 0px; list-style-position: outside;\">\n",
       "    <li style='margin-left:1em; padding-left: 0.5em'>SEPixelSizeX = 0.005002701667</li></ul>\n",
       "    \n",
       "    <ul style=\"margin: 0px; list-style-position: outside;\">\n",
       "    <li style='margin-left:1em; padding-left: 0.5em'>SEPixelSizeY = 0.005083576806</li></ul>\n",
       "    \n",
       "    <ul style=\"margin: 0px; list-style-position: outside;\">\n",
       "    <li style='margin-left:1em; padding-left: 0.5em'>SampleTilt = 0.0</li></ul>\n",
       "    \n",
       "    <ul style=\"margin: 0px; list-style-position: outside;\">\n",
       "    <li style='margin-left:1em; padding-left: 0.5em'>StaticBackground = array([[167, 154, 157, ..., 132, 140, 145],\n",
       "       [162, 165, 163, ..., 146, 1 ... .., 126, 138, 136],\n",
       "       [148, 150, 153, ..., 138, 128, 128]], dtype=uint16)</li></ul>\n",
       "    \n",
       "    <ul style=\"margin: 0px; list-style-position: outside;\">\n",
       "    <li style='margin-left:1em; padding-left: 0.5em'>TopClip = 0.0</li></ul>\n",
       "    \n",
       "    <ul style=\"margin: 0px; list-style-position: outside;\">\n",
       "    <li style='margin-left:1em; padding-left: 0.5em'>UnClippedPatternHeight = 240</li></ul>\n",
       "    \n",
       "    <ul style=\"margin: 0px; list-style-position: outside;\">\n",
       "    <li style='margin-left:1em; padding-left: 0.5em'>WD = 5.026599722</li></ul>\n",
       "    \n",
       "    <ul style=\"margin: 0px; list-style-position: outside;\">\n",
       "    <li style='margin-left:1em; padding-left: 0.5em'>XSTEP = 0.005002701667</li></ul>\n",
       "    \n",
       "    <ul style=\"margin: 0px; list-style-position: outside;\">\n",
       "    <li style='margin-left:1em; padding-left: 0.5em'>YSTEP = 0.005083576806</li></ul>\n",
       "    \n",
       "    <ul style=\"margin: 0px; list-style-position: outside;\">\n",
       "    <li style='margin-left:1em; padding-left: 0.5em'>ZOffset = 0.0</li></ul>\n",
       "    \n",
       "    <ul style=\"margin: 0px; list-style-position: outside;\">\n",
       "    <li style='margin-left:1em; padding-left: 0.5em'>manufacturer = bruker nano</li></ul>\n",
       "    \n",
       "    <ul style=\"margin: 0px; list-style-position: outside;\">\n",
       "    <li style='margin-left:1em; padding-left: 0.5em'>version = esprit 2.x</li></ul>\n",
       "    "
      ],
      "text/plain": [
       "├── CameraTilt = 5.824999998357347\n",
       "├── Coordinate Systems\n",
       "│   ├── ESPRIT Coordinates = array([[254, 254, 254, ..., 254, 254, 254],\n",
       "       [254, 254, 254, ..., 254, 2 ... ..., 254, 254, 254],\n",
       "       [254, 254, 254, ..., 254, 254, 254]], dtype=uint8)\n",
       "│   └── ID = 5\n",
       "├── DetectorFullHeightMicrons = 23700\n",
       "├── DetectorFullWidthMicrons = 31600\n",
       "├── Grid Type = isometric\n",
       "├── KV = 30.0\n",
       "├── MADMax = 1.8\n",
       "├── Magnification = 100000.0\n",
       "├── MapStepFactor = 1.0\n",
       "├── MaxRadonBandCount = 12\n",
       "├── MinIndexedBands = 5\n",
       "├── NCOLS = 299\n",
       "├── NPoints = 3111\n",
       "├── NROWS = 258\n",
       "├── OriginalFile = W:\\P87500-Alice\\Alice2019\\PenumbraFebMarch2019\\20nmAu_std\\Au20_Std_30KV_1-7nA_ap30_Sp5_DD5_DT5-8_HV_dyn__400p.bcf\n",
       "├── PatternHeight = 240\n",
       "├── PatternWidth = 320\n",
       "├── Phases\n",
       "│   └── 1\n",
       "│       ├── AtomPositions\n",
       "│       │   └── 1 = Au,0,0,0,1,0\n",
       "│       ├── Formula = Au4\n",
       "│       ├── IT = 225\n",
       "│       ├── LatticeConstants = array([ 4.079,  4.079,  4.079, 90.   , 90.   , 90.   ], dtype=float32)\n",
       "│       ├── Name = Gold\n",
       "│       ├── Setting = 1\n",
       "│       └── SpaceGroup = F m#ovl3m\n",
       "├── PixelByteCount = 2\n",
       "├── SEPixelSizeX = 0.005002701667\n",
       "├── SEPixelSizeY = 0.005083576806\n",
       "├── SampleTilt = 0.0\n",
       "├── StaticBackground = array([[167, 154, 157, ..., 132, 140, 145],\n",
       "       [162, 165, 163, ..., 146, 1 ... .., 126, 138, 136],\n",
       "       [148, 150, 153, ..., 138, 128, 128]], dtype=uint16)\n",
       "├── TopClip = 0.0\n",
       "├── UnClippedPatternHeight = 240\n",
       "├── WD = 5.026599722\n",
       "├── XSTEP = 0.005002701667\n",
       "├── YSTEP = 0.005083576806\n",
       "├── ZOffset = 0.0\n",
       "├── manufacturer = bruker nano\n",
       "└── version = esprit 2.x"
      ]
     },
     "execution_count": 6,
     "metadata": {},
     "output_type": "execute_result"
    }
   ],
   "source": [
    "s.original_metadata"
   ]
  },
  {
   "cell_type": "code",
   "execution_count": 7,
   "id": "7b9a041d-c117-411c-8efd-4862b5588146",
   "metadata": {},
   "outputs": [
    {
     "data": {
      "text/plain": [
       "EBSDDetector (240, 320), px_size 98.75 um, binning 1, tilt 5.824999998357347, azimuthal 0, pc (0.489, 0.439, -0.63)"
      ]
     },
     "execution_count": 7,
     "metadata": {},
     "output_type": "execute_result"
    }
   ],
   "source": [
    "s.detector"
   ]
  },
  {
   "cell_type": "code",
   "execution_count": 8,
   "id": "c4affdf8-2f21-4413-83a2-d4028ca3531b",
   "metadata": {},
   "outputs": [],
   "source": [
    "s.detector.sample_tilt = 90.0"
   ]
  },
  {
   "cell_type": "code",
   "execution_count": 9,
   "id": "5989abe4-bfea-40d4-937f-89ebd6e73377",
   "metadata": {},
   "outputs": [
    {
     "data": {
      "text/plain": [
       "Phase   Orientations         Name  Space group  Point group  Proper point group     Color\n",
       "   -1     284 (9.1%)  not_indexed         None         None                None         w\n",
       "    1   2827 (90.9%)         Gold        Fm-3m         m-3m                 432  tab:blue\n",
       "Properties: PCX, PCY, DD, MAD, MADPhase, NIndexedBands, RadonBandCount, RadonQuality, XBEAM, YBEAM, XSAMPLE, YSAMPLE, ZSAMPLE\n",
       "Scan unit: um"
      ]
     },
     "execution_count": 9,
     "metadata": {},
     "output_type": "execute_result"
    }
   ],
   "source": [
    "xmap = io.load(path_tkd)\n",
    "xmap"
   ]
  },
  {
   "cell_type": "markdown",
   "id": "fe344fac-6357-45a8-b261-6ac811ea7699",
   "metadata": {},
   "source": [
    "### Some pre-indexing maps\n",
    "\n",
    "Before indexing, it is important to:\n",
    "* Evaluate the pattern quality\n",
    "* Get an impression of what to expect from the indexing results\n",
    "\n",
    "To that end, we inspect three different pre-indexing maps:\n",
    "* Mean pattern intensity map\n",
    "* Virtual backscatter electron (VBSE) imaging RGB map\n",
    "* Image quality map"
   ]
  },
  {
   "cell_type": "markdown",
   "id": "c0ccf5d9-efa2-4103-a20e-3f3d9d7baa93",
   "metadata": {},
   "source": [
    "Get the mean pattern intensity map"
   ]
  },
  {
   "cell_type": "code",
   "execution_count": 10,
   "id": "6f3e1194-0016-4647-b186-44c2c1a098d8",
   "metadata": {},
   "outputs": [
    {
     "data": {
      "text/plain": [
       "<BaseSignal, title: 20nmAu_2019-03-12_02..., dimensions: (51, 61|)>"
      ]
     },
     "execution_count": 10,
     "metadata": {},
     "output_type": "execute_result"
    }
   ],
   "source": [
    "s_mean = s.mean(axis=(2, 3))\n",
    "s_mean"
   ]
  },
  {
   "cell_type": "markdown",
   "id": "f5274567-0903-4fe2-9cd8-df89ffb11b32",
   "metadata": {},
   "source": [
    "Inspect patterns in this map"
   ]
  },
  {
   "cell_type": "code",
   "execution_count": 11,
   "id": "f3476a5e-8f9c-4519-bd6a-07c124aa8b27",
   "metadata": {},
   "outputs": [],
   "source": [
    "s.plot(s_mean)"
   ]
  },
  {
   "cell_type": "markdown",
   "id": "4079f7e2-7846-40f3-8b46-f2184a01a82f",
   "metadata": {},
   "source": [
    "Save mean pattern intensity map"
   ]
  },
  {
   "cell_type": "code",
   "execution_count": 12,
   "id": "4c84e02f-94f2-4125-a1ec-a78406c95f68",
   "metadata": {},
   "outputs": [],
   "source": [
    "plt.imsave(path_res / \"maps_mean.png\", s_mean.data, cmap=\"gray\")"
   ]
  },
  {
   "cell_type": "markdown",
   "id": "b420a5d2-6348-4e32-bf10-97b533bf7459",
   "metadata": {},
   "source": [
    "Set up VBSE image generator"
   ]
  },
  {
   "cell_type": "code",
   "execution_count": 13,
   "id": "91afe837-2ba6-4645-94ca-6ba5f86cfa71",
   "metadata": {},
   "outputs": [
    {
     "data": {
      "text/plain": [
       "VirtualBSEImager for <EBSD, title: 20nmAu_2019-03-12_02..., dimensions: (51, 61|320, 240)>"
      ]
     },
     "execution_count": 13,
     "metadata": {},
     "output_type": "execute_result"
    }
   ],
   "source": [
    "vbse_imager = kp.imaging.VirtualBSEImager(s)\n",
    "vbse_imager.grid_shape = (5, 5)\n",
    "vbse_imager"
   ]
  },
  {
   "cell_type": "markdown",
   "id": "30464c66-5082-405d-8efd-7903cbc502d7",
   "metadata": {},
   "source": [
    "Plot VBSE grid"
   ]
  },
  {
   "cell_type": "code",
   "execution_count": 14,
   "id": "cbf9f1e9-d7e7-4c60-8eaa-0490e669c4b2",
   "metadata": {},
   "outputs": [
    {
     "data": {
      "text/plain": [
       "<EBSD, title: 20nmAu_2019-03-12_02..., dimensions: (|320, 240)>"
      ]
     },
     "execution_count": 14,
     "metadata": {},
     "output_type": "execute_result"
    }
   ],
   "source": [
    "vbse_imager.plot_grid()"
   ]
  },
  {
   "cell_type": "markdown",
   "id": "e5674cd9-987f-4f82-83a5-701f51f385eb",
   "metadata": {},
   "source": [
    "Specify RGB colour channels"
   ]
  },
  {
   "cell_type": "code",
   "execution_count": 15,
   "id": "0c7021a7-62e2-44d5-a584-7c239f24b935",
   "metadata": {},
   "outputs": [],
   "source": [
    "r = [(1, 1), (2, 1), (3, 1)]\n",
    "b = [(1, 2), (3, 2)]\n",
    "g = [(1, 3), (2, 3), (3, 3)]"
   ]
  },
  {
   "cell_type": "markdown",
   "id": "5f55bb8d-f1df-4729-946b-dc0a94bdd440",
   "metadata": {},
   "source": [
    "Plot coloured grid tiles"
   ]
  },
  {
   "cell_type": "code",
   "execution_count": 16,
   "id": "4c68e5a3-9440-49f1-9a5b-2bb68887a506",
   "metadata": {},
   "outputs": [
    {
     "data": {
      "text/plain": [
       "<EBSD, title: 20nmAu_2019-03-12_02..., dimensions: (|320, 240)>"
      ]
     },
     "execution_count": 16,
     "metadata": {},
     "output_type": "execute_result"
    }
   ],
   "source": [
    "vbse_imager.plot_grid(rgb_channels=[r, g, b])"
   ]
  },
  {
   "cell_type": "markdown",
   "id": "c630aae3-ba1d-4b08-9f52-bde4300dbd89",
   "metadata": {},
   "source": [
    "Get VBSE RGB image"
   ]
  },
  {
   "cell_type": "code",
   "execution_count": 17,
   "id": "fa45ab41-ac1e-447d-b037-16b712e39b61",
   "metadata": {},
   "outputs": [],
   "source": [
    "vbse_rgb = vbse_imager.get_rgb_image(r, g, b)"
   ]
  },
  {
   "cell_type": "code",
   "execution_count": 18,
   "id": "fe99cf37-c45c-4a6d-b7d1-15bb47d1761b",
   "metadata": {},
   "outputs": [],
   "source": [
    "vbse_rgb.plot()"
   ]
  },
  {
   "cell_type": "code",
   "execution_count": 22,
   "id": "1d05d09b-e7fa-4689-9d75-4849c82faa94",
   "metadata": {},
   "outputs": [],
   "source": [
    "s.plot(vbse_rgb)"
   ]
  },
  {
   "cell_type": "markdown",
   "id": "c581835c-d885-4dd6-87cc-d66827ff6937",
   "metadata": {},
   "source": [
    "Save RGB image"
   ]
  },
  {
   "cell_type": "code",
   "execution_count": 19,
   "id": "87b961ad-43ed-4657-ac02-bcd3619f0eec",
   "metadata": {},
   "outputs": [],
   "source": [
    "vbse_rgb.save(path_res / \"maps_vbse_rgb.png\", overwrite=True)"
   ]
  },
  {
   "cell_type": "markdown",
   "id": "7a3973d9-6978-46bd-b2e7-fc14e0a092a5",
   "metadata": {},
   "source": [
    "### Enhancement of Kikuchi pattern"
   ]
  },
  {
   "cell_type": "markdown",
   "id": "61256fe0-a233-4993-b863-4fc22e7ef582",
   "metadata": {},
   "source": [
    "Remove static (constant) background"
   ]
  },
  {
   "cell_type": "code",
   "execution_count": 20,
   "id": "d963a210-3a68-45cf-9c37-6f28ac9a53fb",
   "metadata": {},
   "outputs": [
    {
     "data": {
      "text/plain": [
       "<EBSD, title: 20nmAu_2019-03-12_02..., dimensions: (|320, 240)>"
      ]
     },
     "execution_count": 20,
     "metadata": {},
     "output_type": "execute_result"
    }
   ],
   "source": [
    "bg = s.mean(axis=(0, 1))\n",
    "bg.change_dtype(s.data.dtype)\n",
    "bg"
   ]
  },
  {
   "cell_type": "code",
   "execution_count": 21,
   "id": "2438e2fb-a39f-4a5c-a442-9c9ac35e236d",
   "metadata": {},
   "outputs": [
    {
     "name": "stdout",
     "output_type": "stream",
     "text": [
      "[########################################] | 100% Completed | 211.66 ms\n"
     ]
    }
   ],
   "source": [
    "s.remove_static_background(operation=\"divide\", static_bg=bg.data)"
   ]
  },
  {
   "cell_type": "markdown",
   "id": "296b6a66-3076-4bc4-898b-e3e1b28e83fe",
   "metadata": {},
   "source": [
    "Inspect a few (computed on the fly) statically corrected patterns"
   ]
  },
  {
   "cell_type": "code",
   "execution_count": 22,
   "id": "305f27fe-e38f-4447-8d02-c5530551779f",
   "metadata": {},
   "outputs": [],
   "source": [
    "s.plot(s_mean)"
   ]
  },
  {
   "cell_type": "markdown",
   "id": "61029cce-8110-43a5-bc53-5be4e86a7d19",
   "metadata": {},
   "source": [
    "Save corrected patterns"
   ]
  },
  {
   "cell_type": "code",
   "execution_count": null,
   "id": "707b03a0-4690-4e6d-b43f-d2bac96101d2",
   "metadata": {},
   "outputs": [],
   "source": [
    "#s.save(\"patterns.h5\")"
   ]
  },
  {
   "cell_type": "markdown",
   "id": "e5058321-dee7-4f11-bc0c-c8aedbb3f22b",
   "metadata": {},
   "source": [
    "Create pattern mask"
   ]
  },
  {
   "cell_type": "code",
   "execution_count": 109,
   "id": "0f676435-a14c-46c2-8299-9079b2202778",
   "metadata": {},
   "outputs": [],
   "source": [
    "origin_shift = [-3, -2]\n",
    "r_inner, r_outer = 35, 160\n",
    "\n",
    "origin = np.array(s.detector.shape) // 2\n",
    "origin += origin_shift\n",
    "\n",
    "signal_mask = np.ones(s.detector.shape, dtype=bool)\n",
    "dist = kp.filters.distance_to_origin(signal_mask.shape, origin=origin)\n",
    "signal_mask[dist < r_inner] = False\n",
    "signal_mask[dist > r_outer] = False\n",
    "(s.inav[0, 30] * signal_mask).plot(vmin=10_000)"
   ]
  },
  {
   "cell_type": "markdown",
   "id": "17651487-e173-40ba-8d15-9157006ab002",
   "metadata": {},
   "source": [
    "Inspect masked patterns"
   ]
  },
  {
   "cell_type": "code",
   "execution_count": 110,
   "id": "2f26dbe6-be91-4496-9b17-a0c7f2239b5f",
   "metadata": {},
   "outputs": [],
   "source": [
    "(s * signal_mask).plot(s_mean, vmin=10_000)"
   ]
  },
  {
   "cell_type": "markdown",
   "id": "d4150c54-8deb-45b3-b0b0-56a0c13dce9e",
   "metadata": {},
   "source": [
    "### More pre-indexing maps"
   ]
  },
  {
   "cell_type": "markdown",
   "id": "290dbe45-4eaf-4263-982d-50bc4a9933e2",
   "metadata": {},
   "source": [
    "Get image quality $Q$ map (not image quality IQ from Hough indexing!)"
   ]
  },
  {
   "cell_type": "code",
   "execution_count": 25,
   "id": "0f25e28d-21fa-4d30-a378-089f6618cf62",
   "metadata": {},
   "outputs": [
    {
     "name": "stdout",
     "output_type": "stream",
     "text": [
      "[########################################] | 100% Completed | 531.45 ms\n"
     ]
    }
   ],
   "source": [
    "maps_iq = s.get_image_quality()"
   ]
  },
  {
   "cell_type": "markdown",
   "id": "fd81719b-75fc-452a-94f8-76c5c6760f90",
   "metadata": {},
   "source": [
    "Navigate patterns in $Q$ map"
   ]
  },
  {
   "cell_type": "code",
   "execution_count": 26,
   "id": "217fb40f-d313-4fc7-8835-506631b3237e",
   "metadata": {},
   "outputs": [],
   "source": [
    "s.plot(hs.signals.Signal2D(maps_iq), vmin=10_000)"
   ]
  },
  {
   "cell_type": "markdown",
   "id": "39a4b65c-f04c-4ffb-b1cb-929f45298f79",
   "metadata": {},
   "source": [
    "Save $Q$ map"
   ]
  },
  {
   "cell_type": "code",
   "execution_count": 27,
   "id": "db826a9e-eabf-4ba8-bd2b-c617e625be17",
   "metadata": {},
   "outputs": [],
   "source": [
    "plt.imsave(path_res / \"maps_iq.png\", maps_iq, cmap=\"gray\")"
   ]
  },
  {
   "cell_type": "markdown",
   "id": "53148fef-c9c7-487c-ba28-0a25f5227a29",
   "metadata": {},
   "source": [
    "## 2. Specify candidate phases"
   ]
  },
  {
   "cell_type": "markdown",
   "id": "d8ad725e-1dcb-4094-8f92-88d0eca00645",
   "metadata": {},
   "source": [
    "We do not expect other phases than Ni.\n",
    "We will load the master pattern of Ni (packaged with kikuchipy) created with EMsoft"
   ]
  },
  {
   "cell_type": "code",
   "execution_count": 28,
   "id": "36af7503-fcd0-4ce5-8683-f1c4f9ff4ba7",
   "metadata": {
    "tags": []
   },
   "outputs": [],
   "source": [
    "path_mp = \"/Users/hakon/data/crystals/au/au_mc_mp_tkd_30kv.h5\"\n",
    "mp = kp.load(path_mp, energy=30, projection=\"lambert\")"
   ]
  },
  {
   "cell_type": "code",
   "execution_count": 29,
   "id": "b97586f0-b249-4d12-aa44-63adb71f1ae0",
   "metadata": {},
   "outputs": [],
   "source": [
    "mp.phase.name = \"au\""
   ]
  },
  {
   "cell_type": "markdown",
   "id": "3acb0143-e01d-4d47-a3a5-6cf6860502e9",
   "metadata": {},
   "source": [
    "Create a phase list for use in Hough indexing, and set the lattice parameters to Ångström"
   ]
  },
  {
   "cell_type": "code",
   "execution_count": 30,
   "id": "bc945fde-f07d-4a4a-9927-aeff770eb445",
   "metadata": {
    "tags": []
   },
   "outputs": [
    {
     "data": {
      "text/plain": [
       "Id  Name  Space group  Point group  Proper point group     Color\n",
       " 0    au        Fm-3m         m-3m                 432  tab:blue"
      ]
     },
     "execution_count": 30,
     "metadata": {},
     "output_type": "execute_result"
    }
   ],
   "source": [
    "pl = PhaseList(mp.phase)\n",
    "lat = pl[\"au\"].structure.lattice\n",
    "lat.setLatPar(lat.a * 10, lat.b * 10, lat.c * 10)\n",
    "pl"
   ]
  },
  {
   "cell_type": "markdown",
   "id": "895fa8b1-5d26-41e8-88bb-37eb1ca9016f",
   "metadata": {},
   "source": [
    "Also, load the stereographic projection which we will plot later to understand a bit more about simulations"
   ]
  },
  {
   "cell_type": "code",
   "execution_count": 31,
   "id": "852c23c0-e52c-4b3b-b148-ada4be2f6f48",
   "metadata": {
    "tags": []
   },
   "outputs": [],
   "source": [
    "mp_sp = kp.load(path_mp, energy=30, projection=\"stereographic\")"
   ]
  },
  {
   "cell_type": "markdown",
   "id": "0952b847-66d5-4062-b517-564c5206fb88",
   "metadata": {},
   "source": [
    "## 3. Calibrate detector-sample geometry"
   ]
  },
  {
   "cell_type": "markdown",
   "id": "f7fea146-ca74-4d53-bed3-a746d3799db6",
   "metadata": {},
   "source": [
    "Inspect calibration read from the vendor"
   ]
  },
  {
   "cell_type": "code",
   "execution_count": 32,
   "id": "60b01a9d-011b-47b9-bb59-28d6002b8e6d",
   "metadata": {},
   "outputs": [],
   "source": [
    "s.detector.sample_tilt = 90.0"
   ]
  },
  {
   "cell_type": "markdown",
   "id": "c6d87c9c-2af4-46a9-b473-4ef60a721a21",
   "metadata": {},
   "source": [
    "Orientation of detector with respect to the sample:\n",
    "* Known:\n",
    "    * Sample tilt (about microscope X) = 6 degrees\n",
    "    * No camera tilt (screen horizontal)\n",
    "* Unknown:\n",
    "    * Projection/pattern center (PCx, PCy, PCz): Shortest distance from source point to detector\n",
    "\n",
    "Find suitable calibration patterns to get a mean PC for the data"
   ]
  },
  {
   "cell_type": "code",
   "execution_count": 33,
   "id": "de2de01c-930d-4360-8758-8971439a606c",
   "metadata": {},
   "outputs": [],
   "source": [
    "s.plot(hs.signals.Signal2D(maps_iq))"
   ]
  },
  {
   "cell_type": "code",
   "execution_count": 34,
   "id": "4073378e-649d-4b7f-8917-fe7a13620213",
   "metadata": {},
   "outputs": [],
   "source": [
    "xy = [\n",
    "    (14, 0),\n",
    "    (10, 12),\n",
    "    (17, 32),\n",
    "    (15, 53),\n",
    "    (37, 51),\n",
    "    (42, 37),\n",
    "    (42, 22),\n",
    "]\n",
    "p_cal = np.zeros((len(xy),) + s.detector.shape, dtype=s.data.dtype)\n",
    "for i, (x, y) in enumerate(xy):\n",
    "    p_cal[i] = s.data[y, x]\n",
    "s_cal = kp.signals.EBSD(p_cal, detector=s.detector)"
   ]
  },
  {
   "cell_type": "markdown",
   "id": "a6de3f20-1d75-420d-8091-0a42b049774b",
   "metadata": {},
   "source": [
    "Plot pattern positions in an overview image (specific to NORDIF acquisition software)"
   ]
  },
  {
   "cell_type": "code",
   "execution_count": 35,
   "id": "18bf9a89-b8b4-4c26-90a2-37bff54e515a",
   "metadata": {
    "tags": []
   },
   "outputs": [],
   "source": [
    "rc = np.array(xy)[:, ::-1]\n",
    "\n",
    "kp.draw.plot_pattern_positions_in_map(\n",
    "    rc=rc,\n",
    "    roi_shape=maps_iq.shape,\n",
    "    roi_image=maps_iq,\n",
    "    color=\"r\",\n",
    ")"
   ]
  },
  {
   "cell_type": "markdown",
   "id": "c16b8dfb-71f2-48ec-acf4-2b890bd18540",
   "metadata": {},
   "source": [
    "Inspect calibration patterns"
   ]
  },
  {
   "cell_type": "code",
   "execution_count": 36,
   "id": "03c100dd-0c0a-4ccc-a7e9-c2f4d50fb1d7",
   "metadata": {},
   "outputs": [],
   "source": [
    "(s_cal * signal_mask).plot(navigator=\"none\")"
   ]
  },
  {
   "cell_type": "markdown",
   "id": "d0eff1a0-635a-4202-88a7-407416df7db9",
   "metadata": {},
   "source": [
    "Generate an indexer instance used to optimize the PC and to perform Hough indexing"
   ]
  },
  {
   "cell_type": "code",
   "execution_count": 37,
   "id": "883679d0-17fd-486b-af63-4e0baeaa3094",
   "metadata": {},
   "outputs": [],
   "source": [
    "indexer_cal = s_cal.detector.get_indexer(pl)"
   ]
  },
  {
   "cell_type": "code",
   "execution_count": 38,
   "id": "bae300be-8993-4918-8253-ffc2604ce64a",
   "metadata": {
    "tags": []
   },
   "outputs": [
    {
     "name": "stdout",
     "output_type": "stream",
     "text": [
      " h k l      d     |F|_hkl   |F|^2   |F|^2_rel   Mult \n",
      " 1 1 1    2.356    27.0     727.6     100.0      8   \n",
      " 2 0 0    2.040    24.5     599.5      82.4      6   \n",
      " 2 2 0    1.442    18.3     334.9      46.0      12  \n",
      " 3 1 1    1.230    15.5     241.3      33.2      24  \n"
     ]
    }
   ],
   "source": [
    "g = ReciprocalLatticeVector(pl[\"au\"], hkl=[[1, 1, 1], [2, 0, 0], [2, 2, 0], [3, 1, 1]])\n",
    "g = g.symmetrise()\n",
    "g.sanitise_phase()  # Complete unit cell\n",
    "g.calculate_structure_factor()\n",
    "g.calculate_theta(30e3)\n",
    "g.print_table()"
   ]
  },
  {
   "cell_type": "markdown",
   "id": "b9c4355a-56d3-47ce-b6e9-e9a7c9a46499",
   "metadata": {},
   "source": [
    "Create simulator"
   ]
  },
  {
   "cell_type": "code",
   "execution_count": 39,
   "id": "f8ec9007-9663-44a3-8a48-2f6d92f4aabb",
   "metadata": {
    "tags": []
   },
   "outputs": [],
   "source": [
    "simulator = kp.simulations.KikuchiPatternSimulator(g)"
   ]
  },
  {
   "cell_type": "markdown",
   "id": "e395e3cd-f8e1-49b0-86e8-b4e0ca704e48",
   "metadata": {},
   "source": [
    "Plot simulator"
   ]
  },
  {
   "cell_type": "code",
   "execution_count": 40,
   "id": "6d8267c7-8e56-43ac-81dd-01291d1161e9",
   "metadata": {
    "tags": []
   },
   "outputs": [],
   "source": [
    "simulator.plot(mode=\"bands\", axes_labels=[\"e1\", \"e2\"])"
   ]
  },
  {
   "cell_type": "markdown",
   "id": "2659593b-0694-4662-b25d-e4d41e8d302b",
   "metadata": {},
   "source": [
    "Inspect default PC with gnomonic circles with 10$^{\\circ}$ spacing"
   ]
  },
  {
   "cell_type": "code",
   "execution_count": 41,
   "id": "e271fa09-e0eb-4f91-8c17-fc4586abc835",
   "metadata": {
    "tags": []
   },
   "outputs": [],
   "source": [
    "s_cal.detector.plot(\"gnomonic\", draw_gnomonic_circles=True)"
   ]
  },
  {
   "cell_type": "code",
   "execution_count": 42,
   "id": "83794cf5-ebf7-41e7-a8c0-0d073fee97e5",
   "metadata": {},
   "outputs": [
    {
     "name": "stdout",
     "output_type": "stream",
     "text": [
      "[########################################] | 100% Completed | 106.42 ms\n"
     ]
    }
   ],
   "source": [
    "s_cal2 = s_cal.deepcopy()\n",
    "s_cal2.rescale_intensity(percentiles=(0.1, 99.9))"
   ]
  },
  {
   "cell_type": "markdown",
   "id": "3f84dbb6-9ef9-4d26-9eb8-43e832955edb",
   "metadata": {},
   "source": [
    "Optimize PC by trial and error (the initial guess is based on previous experiments on the same microscope).\n",
    "\n",
    "NB! Running this cell the first time after installing PyEBSDIndex might cause a kernel crash...\n",
    "If that happens, you have to re-run the notebook.\n",
    "It should not happen again.\n",
    "This is an issue we're working to solve."
   ]
  },
  {
   "cell_type": "code",
   "execution_count": 43,
   "id": "b449eb1d-69ab-491c-803d-c103209de61c",
   "metadata": {
    "tags": []
   },
   "outputs": [
    {
     "name": "stdout",
     "output_type": "stream",
     "text": [
      "\n",
      "PC found: [********* ] 7/7  global best:0.1  PC opt:[ 0.4829  0.4332 -0.6382]49]\n",
      "All PCs:\n",
      " [[ 0.48082426  0.42406403 -0.62835403]\n",
      " [ 0.48046304  0.43162949 -0.63328057]\n",
      " [ 0.48704533  0.43106702 -0.62952331]\n",
      " [ 0.4776462   0.43058224 -0.63052349]\n",
      " [ 0.49695517  0.41683134 -0.62341703]\n",
      " [ 0.48199189  0.42021414 -0.62491618]\n",
      " [ 0.48290195  0.43316551 -0.63816217]]\n",
      "Mean PC:\n",
      " [ 0.48397541  0.42679339 -0.62973954]\n",
      "Std:\n",
      " [0.00591983 0.00593524 0.00461828] \n",
      "\n",
      "Hough indexing with PyEBSDIndex information:\n",
      "  PyOpenCL: True\n",
      "  Projection center (Bruker, mean): (0.484, 0.4268, -0.6297)\n",
      "  Indexing 7 pattern(s) in 1 chunk(s)\n",
      "  Indexing speed: 96.81727 patterns/s\n",
      "\n",
      " Phase  Orientations  Name  Space group  Point group  Proper point group     Color\n",
      "    0    7 (100.0%)    au        Fm-3m         m-3m                 432  tab:blue\n",
      "Properties: fit, cm, pq, nmatch\n",
      "Scan unit: px \n",
      "\n",
      "Finding bands that are in some pattern:\n",
      "[########################################] | 100% Completed | 105.81 ms\n",
      "Finding zone axes that are in some pattern:\n",
      "[########################################] | 100% Completed | 106.16 ms\n",
      "Calculating detector coordinates for bands and zone axes:\n",
      "[########################################] | 100% Completed | 106.70 ms\n"
     ]
    }
   ],
   "source": [
    "det_cal = s_cal.hough_indexing_optimize_pc([0.49, 0.44, -0.63], indexer_cal, batch=True, method=\"PSO\")\n",
    "\n",
    "# Print PCs and standard deviations\n",
    "print(\"All PCs:\\n\", det_cal.pc)\n",
    "print(\"Mean PC:\\n\", det_cal.pc_average)\n",
    "print(\"Std:\\n\", det_cal.pc.std(axis=0), \"\\n\")\n",
    "\n",
    "# Get new indexer from detector, using the average PC\n",
    "indexer_cal2 = det_cal.get_indexer(pl)\n",
    "\n",
    "# Index calibration patterns using found PCs\n",
    "xmap_cal = s_cal.hough_indexing(pl, indexer_cal2, verbose=0)\n",
    "print(\"\\n\", xmap_cal, \"\\n\")\n",
    "\n",
    "# Create geometrical simulations for each pattern\n",
    "sim_cal = simulator.on_detector(det_cal, xmap_cal.rotations)"
   ]
  },
  {
   "cell_type": "markdown",
   "id": "c652ce7f-5837-4b1b-ae0e-9b39bb0849fc",
   "metadata": {},
   "source": [
    "Plot patterns with markers"
   ]
  },
  {
   "cell_type": "code",
   "execution_count": 44,
   "id": "7e3e8e52-de64-457d-b3d9-85c06883bf10",
   "metadata": {},
   "outputs": [],
   "source": [
    "#del s_cal2.metadata.Markers\n",
    "markers = sim_cal.as_markers(lines_kwargs={\"linewidth\": 0.5, \"color\": \"r\"})\n",
    "s_cal2.add_marker(markers, plot_marker=False, permanent=True)\n",
    "(s_cal2 * signal_mask).plot(None, vmin=10_000)"
   ]
  },
  {
   "cell_type": "markdown",
   "id": "de68dd2f-08be-4fa5-8ca8-a3c537252919",
   "metadata": {},
   "source": [
    "Plot pair of PC coordinates and compare to the map of PC positions from above"
   ]
  },
  {
   "cell_type": "code",
   "execution_count": 45,
   "id": "5253a1fc-61ed-449a-8bd5-6e3c1355a02f",
   "metadata": {
    "tags": []
   },
   "outputs": [],
   "source": [
    "det_cal.plot_pc(\"scatter\", annotate=True)"
   ]
  },
  {
   "cell_type": "markdown",
   "id": "0d0c2902-5d1d-44cc-a2d2-3325612e3cd0",
   "metadata": {},
   "source": [
    "Refine PCs using pattern matching"
   ]
  },
  {
   "cell_type": "code",
   "execution_count": 47,
   "id": "42f34208-3515-4535-af3a-fa2edecfaca1",
   "metadata": {
    "tags": []
   },
   "outputs": [
    {
     "name": "stdout",
     "output_type": "stream",
     "text": [
      "Refinement information:\n",
      "  Method: LN_NELDERMEAD (local) from NLopt\n",
      "  Trust region (+/-): [5.  5.  5.  0.1 0.1 0.1]\n",
      "  Relative tolerance: 1e-05\n",
      "Refining 7 orientation(s) and projection center(s):\n",
      "[####################################    ] | 91% Completed | 108.10 ms"
     ]
    },
    {
     "name": "stderr",
     "output_type": "stream",
     "text": [
      "/opt/homebrew/Caskroom/miniforge/base/envs/kp/lib/python3.10/site-packages/kikuchipy/signals/util/_crystal_map.py:41: UserWarning: Signal navigation axes must be named 'x' and/or 'y' in order to compare the signal navigation scales to the crystal map step sizes 'dx' and 'dy' (see `EBSD.axes_manager`)\n",
      "  warnings.warn(\n"
     ]
    },
    {
     "name": "stdout",
     "output_type": "stream",
     "text": [
      "[########################################] | 100% Completed | 1.16 sms\n",
      "Refinement speed: 6.02826 patterns/s\n",
      "Finding bands that are in some pattern:\n",
      "[########################################] | 100% Completed | 105.88 ms\n",
      "Finding zone axes that are in some pattern:\n",
      "[########################################] | 100% Completed | 101.30 ms\n",
      "Calculating detector coordinates for bands and zone axes:\n",
      "[########################################] | 100% Completed | 106.59 ms\n"
     ]
    }
   ],
   "source": [
    "xmap_cal2, det_cal2 = s_cal.refine_orientation_projection_center(\n",
    "    xmap_cal,\n",
    "    det_cal,\n",
    "    mp,\n",
    "    energy=30,\n",
    "    signal_mask=~signal_mask,\n",
    "    method=\"LN_NELDERMEAD\",\n",
    "    trust_region=[5, 5, 5, 0.1, 0.1, 0.1],\n",
    "    rtol=1e-5,\n",
    "    chunk_kwargs=dict(chunk_shape=1),  # Spread across all CPUs\n",
    ")\n",
    "\n",
    "# Create geometrical simulations for each pattern\n",
    "sim_cal2 = simulator.on_detector(det_cal2, xmap_cal2.rotations)"
   ]
  },
  {
   "cell_type": "markdown",
   "id": "75a064de-8b86-4a25-a15e-257285290ca5",
   "metadata": {},
   "source": [
    "Again, plot patterns with markers"
   ]
  },
  {
   "cell_type": "code",
   "execution_count": 48,
   "id": "0a285631-63b4-4b91-bbd4-58065b0d3884",
   "metadata": {},
   "outputs": [],
   "source": [
    "#del s_cal2.metadata.Markers\n",
    "markers2 = sim_cal2.as_markers(lines_kwargs={\"linewidth\": 0.5, \"color\": \"w\"})\n",
    "s_cal2.add_marker(markers2, plot_marker=False, permanent=True)"
   ]
  },
  {
   "cell_type": "code",
   "execution_count": 49,
   "id": "9f75a13e-3d75-416c-83eb-1cb446b457b8",
   "metadata": {},
   "outputs": [],
   "source": [
    "(s_cal2 * signal_mask).plot(None, vmin=10_000)"
   ]
  },
  {
   "cell_type": "code",
   "execution_count": 50,
   "id": "741a3892-e220-44e3-96ba-da12e5a1114e",
   "metadata": {
    "tags": []
   },
   "outputs": [],
   "source": [
    "det_cal2.plot_pc(\"scatter\", annotate=True)"
   ]
  },
  {
   "cell_type": "markdown",
   "id": "ef06cf69-190a-464a-88f7-3f097615fe25",
   "metadata": {},
   "source": [
    "Save detector"
   ]
  },
  {
   "cell_type": "code",
   "execution_count": 51,
   "id": "fb3ccc02-01d9-442b-9e7e-51ae41ebadf4",
   "metadata": {
    "tags": []
   },
   "outputs": [],
   "source": [
    "det_cal2.save(path_res / \"det_cal.txt\")"
   ]
  },
  {
   "cell_type": "markdown",
   "id": "d1df8329-4f57-4190-841a-6f2769bb8ecb",
   "metadata": {},
   "source": [
    "Get detector with mean PC"
   ]
  },
  {
   "cell_type": "code",
   "execution_count": 52,
   "id": "7435b6f6-1c33-497a-a950-79d8f22b59b7",
   "metadata": {},
   "outputs": [],
   "source": [
    "det1 = det_cal2.deepcopy()\n",
    "det1.pc = det1.pc_average"
   ]
  },
  {
   "cell_type": "markdown",
   "id": "f6912dd5-eb88-4430-8b62-21beef12f6e9",
   "metadata": {},
   "source": [
    "## 4. Hough indexing\n",
    "\n",
    "Create a new indexer with the extrapolated PCs"
   ]
  },
  {
   "cell_type": "code",
   "execution_count": 53,
   "id": "3694a4fc-1758-4ed4-b130-1773769df04a",
   "metadata": {
    "tags": []
   },
   "outputs": [],
   "source": [
    "indexer = det1.get_indexer(pl)"
   ]
  },
  {
   "cell_type": "markdown",
   "id": "51fd69ce-6d76-4b17-8e14-026ebfed3485",
   "metadata": {},
   "source": [
    "Hough index all patterns"
   ]
  },
  {
   "cell_type": "code",
   "execution_count": 54,
   "id": "f8467b1b-542f-4229-be75-487254f5596e",
   "metadata": {
    "tags": []
   },
   "outputs": [
    {
     "name": "stdout",
     "output_type": "stream",
     "text": [
      "Hough indexing with PyEBSDIndex information:\n",
      "  PyOpenCL: True\n",
      "  Projection center (Bruker): (0.4826, 0.4281, -0.6241)\n",
      "  Indexing 3111 pattern(s) in 6 chunk(s)\n",
      "Radon Time: 0.49512137717101723\n",
      "Convolution Time: 0.14714791695587337\n",
      "Peak ID Time: 0.2757090841187164\n",
      "Band Label Time: 0.47608129133004695\n",
      "Total Band Find Time: 1.3944448749534786\n",
      "Band Vote Time:  0.7949642080347985\n",
      "  Indexing speed: 1404.09427 patterns/s\n"
     ]
    }
   ],
   "source": [
    "xmap_hi = s.hough_indexing(pl, indexer, verbose=2)"
   ]
  },
  {
   "cell_type": "markdown",
   "id": "07562e86-0f4c-4d9b-ad97-357baabef7d9",
   "metadata": {},
   "source": [
    "Check whether any patterns could not be indexed"
   ]
  },
  {
   "cell_type": "code",
   "execution_count": 55,
   "id": "d03f008e-e7d9-4a6c-972f-015c6e6f94d1",
   "metadata": {},
   "outputs": [
    {
     "data": {
      "text/plain": [
       "Phase   Orientations         Name  Space group  Point group  Proper point group     Color\n",
       "   -1      17 (0.5%)  not_indexed         None         None                None         w\n",
       "    0   3094 (99.5%)           au        Fm-3m         m-3m                 432  tab:blue\n",
       "Properties: fit, cm, pq, nmatch\n",
       "Scan unit: um"
      ]
     },
     "execution_count": 55,
     "metadata": {},
     "output_type": "execute_result"
    }
   ],
   "source": [
    "xmap_hi"
   ]
  },
  {
   "cell_type": "markdown",
   "id": "92cf8d95-9e7f-49e1-a1a8-54797652a1c6",
   "metadata": {},
   "source": [
    "Save the Hough indexing results"
   ]
  },
  {
   "cell_type": "code",
   "execution_count": 56,
   "id": "e9a4a24b-3ae4-41be-bcbd-df14a0074bed",
   "metadata": {
    "tags": []
   },
   "outputs": [],
   "source": [
    "io.save(path_res / \"xmap_hi.h5\", xmap_hi, overwrite=True)"
   ]
  },
  {
   "cell_type": "markdown",
   "id": "ae9a2cd6-b629-4490-a561-cb52fefae959",
   "metadata": {},
   "source": [
    "Plot the pattern fit and confidence metric (CM) maps"
   ]
  },
  {
   "cell_type": "code",
   "execution_count": 57,
   "id": "5e8fa127-ffce-4d54-a44d-6f7d62578e9a",
   "metadata": {},
   "outputs": [],
   "source": [
    "xmap_hi.plot(\"fit\", colorbar=True, colorbar_label=\"fit\", vmax=3)"
   ]
  },
  {
   "cell_type": "code",
   "execution_count": 58,
   "id": "0e96cbd7-de93-4d83-a635-101bcb3471b9",
   "metadata": {},
   "outputs": [],
   "source": [
    "xmap_hi.plot(\"cm\", colorbar=True, colorbar_label=\"cm\")"
   ]
  },
  {
   "cell_type": "code",
   "execution_count": 59,
   "id": "78eba154-3cbd-492d-b327-449d1b58903e",
   "metadata": {},
   "outputs": [],
   "source": [
    "xmap_hi.plot(\"pq\", colorbar=True, colorbar_label=\"pq\")"
   ]
  },
  {
   "cell_type": "code",
   "execution_count": 60,
   "id": "ade16e47-de2b-49c2-b59d-0ebd9540debc",
   "metadata": {},
   "outputs": [],
   "source": [
    "xmap_hi.plot(\"nmatch\", colorbar=True, colorbar_label=\"nmatch\")"
   ]
  },
  {
   "cell_type": "markdown",
   "id": "cc747acd-b52d-49b7-b64b-068f7f69a6de",
   "metadata": {},
   "source": [
    "Plot the orientation map (IPF-Z), where colors are given by the (symmetry reduced) crystal direction $\\left<uvw\\right>$ pointing in the into-plane direction"
   ]
  },
  {
   "cell_type": "code",
   "execution_count": 61,
   "id": "e5fef600-bd24-4fe1-b648-8384dc4e660e",
   "metadata": {},
   "outputs": [],
   "source": [
    "ckey = plot.IPFColorKeyTSL(xmap_hi.phases[0].point_group)"
   ]
  },
  {
   "cell_type": "code",
   "execution_count": 59,
   "id": "4c63035b-4dff-43a8-beb1-f9cc3b207f4e",
   "metadata": {},
   "outputs": [],
   "source": [
    "ckey.plot()"
   ]
  },
  {
   "cell_type": "code",
   "execution_count": 62,
   "id": "5d2060a7-04ab-46e0-9a89-ab5f0fdd450d",
   "metadata": {},
   "outputs": [],
   "source": [
    "rgb_hi = ckey.orientation2color(xmap_hi.rotations)\n",
    "xmap_hi.plot(rgb_hi)"
   ]
  },
  {
   "cell_type": "markdown",
   "id": "145a37f9-e991-4041-94f7-23702ae45fb0",
   "metadata": {},
   "source": [
    "Plot IPF-Z map overlayed with image quality"
   ]
  },
  {
   "cell_type": "code",
   "execution_count": 63,
   "id": "02a9f224-f4e4-4d4c-a7de-9745a64a2a59",
   "metadata": {
    "tags": []
   },
   "outputs": [],
   "source": [
    "xmap_hi.plot(rgb_hi, overlay=maps_iq.ravel())"
   ]
  },
  {
   "cell_type": "code",
   "execution_count": 64,
   "id": "e6397826-aaa9-402f-8e08-73fe21a0f39c",
   "metadata": {
    "tags": []
   },
   "outputs": [],
   "source": [
    "xmap_hi.plot(rgb_hi, overlay=\"pq\")"
   ]
  },
  {
   "cell_type": "markdown",
   "id": "26d60a1a-ba0d-4b22-abd4-5e649984f086",
   "metadata": {},
   "source": [
    "Evaluate results by plotting geometrical simulations on top of patterns"
   ]
  },
  {
   "cell_type": "code",
   "execution_count": 65,
   "id": "366262c9-5f74-4e0d-b548-d86c6b1e4a67",
   "metadata": {
    "tags": []
   },
   "outputs": [
    {
     "name": "stdout",
     "output_type": "stream",
     "text": [
      "Finding bands that are in some pattern:\n",
      "[########################################] | 100% Completed | 106.30 ms\n",
      "Finding zone axes that are in some pattern:\n",
      "[########################################] | 100% Completed | 106.50 ms\n",
      "Calculating detector coordinates for bands and zone axes:\n",
      "[########################################] | 100% Completed | 105.41 ms\n"
     ]
    }
   ],
   "source": [
    "sim_hi = simulator.on_detector(det1, xmap_hi.rotations.reshape(*xmap_hi.shape))"
   ]
  },
  {
   "cell_type": "code",
   "execution_count": 66,
   "id": "0d0ae097-13ab-41e4-aab8-58ab89f5da9f",
   "metadata": {},
   "outputs": [],
   "source": [
    "s.axes_manager[\"dx\"].scale = s.axes_manager[\"dy\"].scale = 1.0"
   ]
  },
  {
   "cell_type": "code",
   "execution_count": 67,
   "id": "c6cd3c9a-6221-4b68-a434-13902ce7bc00",
   "metadata": {
    "tags": []
   },
   "outputs": [],
   "source": [
    "#del s.metadata.Markers  # Uncomment to delete previously added markers\n",
    "s.add_marker(sim_hi.as_markers(lines_kwargs={\"linewidth\": 0.5}), permanent=True, plot_marker=False)"
   ]
  },
  {
   "cell_type": "markdown",
   "id": "a6b117f6-4e7d-450a-b19d-d9b9d6a3b576",
   "metadata": {},
   "source": [
    "Create a navigator from the IPF-Z map"
   ]
  },
  {
   "cell_type": "code",
   "execution_count": 68,
   "id": "e66caa77-9fae-4eea-8c73-1956cebda88d",
   "metadata": {
    "tags": []
   },
   "outputs": [],
   "source": [
    "maps_ipf = kp.draw.get_rgb_navigator(rgb_hi.reshape(xmap_hi.shape + (3,)))"
   ]
  },
  {
   "cell_type": "code",
   "execution_count": 69,
   "id": "5b19d95a-9d96-43d9-bad6-642a4a724452",
   "metadata": {
    "tags": []
   },
   "outputs": [],
   "source": [
    "s.plot(maps_ipf)"
   ]
  },
  {
   "cell_type": "markdown",
   "id": "9a8874d2-cba8-4993-bab7-6364c86ac3e0",
   "metadata": {},
   "source": [
    "## 5. Dictionary indexing\n",
    "\n",
    "Dictionary indexing is more robust towards noise in EBSD patterns (resulting from e.g. overlapping bands, high degree of deformation etc.) than Hough indexing.\n",
    "A dictionary consists of a series of (dynamically) simulated patterns projected from a master pattern, and we compare all experimental patterns to all these.\n",
    "\n",
    "To create this dictionary, we need:\n",
    "* Accurate detector-sample geometry (already done!)\n",
    "* Master pattern (in the square Lambert projection)\n",
    "* Sampling of all possible orientations (per phase)"
   ]
  },
  {
   "cell_type": "markdown",
   "id": "4969781f-c34b-40dc-b831-4ff68cfbed59",
   "metadata": {},
   "source": [
    "Plot our geometrical simulation on top of the upper stereographic projection of our dynamically simulated Ni Kikuchi sphere"
   ]
  },
  {
   "cell_type": "code",
   "execution_count": 70,
   "id": "1f953938-c6bf-42ec-ad58-0a1ee7f5d3f0",
   "metadata": {},
   "outputs": [],
   "source": [
    "fig, ax = plt.subplots(subplot_kw={\"projection\": \"stereographic\"}, figsize=(7, 7))\n",
    "simulator.plot(mode=\"bands\", color=\"w\", figure=fig)\n",
    "ax.imshow(mp_sp.data, cmap=\"gray\", extent=(-1, 1, -1, 1));"
   ]
  },
  {
   "cell_type": "markdown",
   "id": "2e6ff6b9-59b2-4630-b94a-6b3d413eb5ca",
   "metadata": {},
   "source": [
    "Discretely sample the complete orientation space of point group $m\\bar{3}m$ (*Oh*) with an average misorientation of about 2$^{\\circ}$ between rotations $\\mathbf{g}$"
   ]
  },
  {
   "cell_type": "code",
   "execution_count": 71,
   "id": "559f5781-fb7d-4bba-b7f6-a441980bb46a",
   "metadata": {},
   "outputs": [],
   "source": [
    "R_sample = sampling.get_sample_fundamental(\n",
    "    resolution=2, point_group=mp.phase.point_group\n",
    ")\n",
    "O_sample = Orientation(R_sample, symmetry=mp.phase.point_group)"
   ]
  },
  {
   "cell_type": "code",
   "execution_count": 72,
   "id": "8a07a449-ad86-4cec-ba0d-f0cbb0bad44a",
   "metadata": {},
   "outputs": [
    {
     "data": {
      "text/plain": [
       "Orientation (100347,) m-3m\n",
       "[[ 0.8541 -0.3536 -0.3536 -0.1435]\n",
       " [ 0.8541 -0.3536 -0.3536  0.1435]\n",
       " [ 0.8541 -0.3536 -0.1435 -0.3536]\n",
       " ...\n",
       " [ 0.8541  0.3536  0.1435  0.3536]\n",
       " [ 0.8541  0.3536  0.3536 -0.1435]\n",
       " [ 0.8541  0.3536  0.3536  0.1435]]"
      ]
     },
     "execution_count": 72,
     "metadata": {},
     "output_type": "execute_result"
    }
   ],
   "source": [
    "O_sample"
   ]
  },
  {
   "cell_type": "markdown",
   "id": "f6364da1-ed19-45b9-8468-05675d3fa4a2",
   "metadata": {},
   "source": [
    "Plot a subset of sampled orientations in axis-angle space"
   ]
  },
  {
   "cell_type": "code",
   "execution_count": 73,
   "id": "4400c698-1dff-4a9f-b80b-dcc272ccdcb3",
   "metadata": {},
   "outputs": [],
   "source": [
    "O_sample.get_random_sample(2000).scatter()"
   ]
  },
  {
   "cell_type": "markdown",
   "id": "11d8e6d4-2f66-4559-aa8a-5485d5db965d",
   "metadata": {},
   "source": [
    "Bin patterns"
   ]
  },
  {
   "cell_type": "code",
   "execution_count": 74,
   "id": "de4f37d1-45fc-4834-9b15-bb09f9c5bfe9",
   "metadata": {},
   "outputs": [
    {
     "name": "stdout",
     "output_type": "stream",
     "text": [
      "[########################################] | 100% Completed | 105.99 ms\n"
     ]
    }
   ],
   "source": [
    "s2 = s.downsample(4, inplace=False)"
   ]
  },
  {
   "cell_type": "code",
   "execution_count": 75,
   "id": "8e8f0725-aa5e-43cd-8178-ddf2417f1c77",
   "metadata": {},
   "outputs": [],
   "source": [
    "s2.detector.shape = s2.detector.shape[::-1]"
   ]
  },
  {
   "cell_type": "code",
   "execution_count": 76,
   "id": "5312b2a4-9dbf-4566-9225-ab9d4060a983",
   "metadata": {},
   "outputs": [],
   "source": [
    "det2 = det1.deepcopy()\n",
    "det2.shape = s2.axes_manager.signal_shape[::-1]"
   ]
  },
  {
   "cell_type": "markdown",
   "id": "7f2031db-f14a-47f2-b686-240c69e01e5b",
   "metadata": {},
   "source": [
    "Set up generation of the dictionary of dynamically simulated patterns"
   ]
  },
  {
   "cell_type": "code",
   "execution_count": 77,
   "id": "d7fd47a0-5968-4534-9a86-ede37af7c371",
   "metadata": {},
   "outputs": [
    {
     "data": {
      "text/html": [
       "<table>\n",
       "    <tr>\n",
       "        <td>\n",
       "            <table>\n",
       "                <thead>\n",
       "                    <tr>\n",
       "                        <th> Title: </th>\n",
       "                        <td>  </td>\n",
       "                    </tr>\n",
       "                    <tr>\n",
       "                        <th> SignalType: </th>\n",
       "                        <td> EBSD </td>\n",
       "                    </tr>\n",
       "                </thead>\n",
       "                <thead>\n",
       "                    <tr>\n",
       "                        <td>  </td>\n",
       "                        <th> Array </th>\n",
       "                        <th> Chunk </th>\n",
       "                    </tr>\n",
       "                </thead>\n",
       "                <tbody>\n",
       "                    \n",
       "                    <tr>\n",
       "                        <th> Bytes </th>\n",
       "                        <td> 1.79 GiB </td>\n",
       "                        <td> 91.55 MiB </td>\n",
       "                    </tr>\n",
       "                    \n",
       "                    <tr>\n",
       "                        <th> Shape </th>\n",
       "                        <td> (100347|80, 60) </td>\n",
       "                        <td> (5000|<b>80</b>,<b>60</b>) </td>\n",
       "                    </tr>\n",
       "                    <tr>\n",
       "                        <th> Count </th>\n",
       "                        <td> 65 Tasks </td>\n",
       "                        <td> 21 Chunks </td>\n",
       "                    </tr>\n",
       "                    <tr>\n",
       "                    <th> Type </th>\n",
       "                    <td> float32 </td>\n",
       "                    <td> numpy.ndarray </td>\n",
       "                    </tr>\n",
       "                </tbody>\n",
       "            </table>\n",
       "        </td>\n",
       "        <td>\n",
       "            <table>\n",
       "                <thead>\n",
       "                    <tr>\n",
       "                        <th><p style=\"text-align:left;\">Navigation Axes</p>  </th>\n",
       "                        <th> <p style=\"text-align:left;\">Signal Axes</p> </th>\n",
       "                    </tr>\n",
       "                </thead>\n",
       "                <tbody>\n",
       "                    <tr>\n",
       "                        <td> <svg width=\"170\" height=\"75\" style=\"stroke:rgb(0,0,0);stroke-width:1\" >\n",
       "\n",
       "  <!-- Horizontal lines -->\n",
       "  <line x1=\"0\" y1=\"0\" x2=\"120\" y2=\"0\" style=\"stroke-width:2\" />\n",
       "  <line x1=\"0\" y1=\"25\" x2=\"120\" y2=\"25\" style=\"stroke-width:2\" />\n",
       "\n",
       "  <!-- Vertical lines -->\n",
       "  <line x1=\"0\" y1=\"0\" x2=\"0\" y2=\"25\" style=\"stroke-width:2\" />\n",
       "  <line x1=\"5\" y1=\"0\" x2=\"5\" y2=\"25\" />\n",
       "  <line x1=\"11\" y1=\"0\" x2=\"11\" y2=\"25\" />\n",
       "  <line x1=\"17\" y1=\"0\" x2=\"17\" y2=\"25\" />\n",
       "  <line x1=\"23\" y1=\"0\" x2=\"23\" y2=\"25\" />\n",
       "  <line x1=\"29\" y1=\"0\" x2=\"29\" y2=\"25\" />\n",
       "  <line x1=\"35\" y1=\"0\" x2=\"35\" y2=\"25\" />\n",
       "  <line x1=\"41\" y1=\"0\" x2=\"41\" y2=\"25\" />\n",
       "  <line x1=\"47\" y1=\"0\" x2=\"47\" y2=\"25\" />\n",
       "  <line x1=\"53\" y1=\"0\" x2=\"53\" y2=\"25\" />\n",
       "  <line x1=\"65\" y1=\"0\" x2=\"65\" y2=\"25\" />\n",
       "  <line x1=\"71\" y1=\"0\" x2=\"71\" y2=\"25\" />\n",
       "  <line x1=\"77\" y1=\"0\" x2=\"77\" y2=\"25\" />\n",
       "  <line x1=\"83\" y1=\"0\" x2=\"83\" y2=\"25\" />\n",
       "  <line x1=\"89\" y1=\"0\" x2=\"89\" y2=\"25\" />\n",
       "  <line x1=\"95\" y1=\"0\" x2=\"95\" y2=\"25\" />\n",
       "  <line x1=\"101\" y1=\"0\" x2=\"101\" y2=\"25\" />\n",
       "  <line x1=\"107\" y1=\"0\" x2=\"107\" y2=\"25\" />\n",
       "  <line x1=\"113\" y1=\"0\" x2=\"113\" y2=\"25\" />\n",
       "  <line x1=\"120\" y1=\"0\" x2=\"120\" y2=\"25\" style=\"stroke-width:2\" />\n",
       "\n",
       "  <!-- Colored Rectangle -->\n",
       "  <polygon points=\"0.0,0.0 120.0,0.0 120.0,25.412616514582485 0.0,25.412616514582485\" style=\"fill:#8B4903A0;stroke-width:0\"/>\n",
       "\n",
       "  <!-- Text -->\n",
       "  <text x=\"60.000000\" y=\"45.412617\" font-size=\"1.0rem\" font-weight=\"100\" text-anchor=\"middle\" >100347</text>\n",
       "  <text x=\"140.000000\" y=\"12.706308\" font-size=\"1.0rem\" font-weight=\"100\" text-anchor=\"middle\" transform=\"rotate(0,140.000000,12.706308)\">1</text>\n",
       "</svg> </td>\n",
       "                        <td> <svg width=\"170\" height=\"140\" style=\"stroke:rgb(0,0,0);stroke-width:1\" >\n",
       "\n",
       "  <!-- Horizontal lines -->\n",
       "  <line x1=\"0\" y1=\"0\" x2=\"120\" y2=\"0\" style=\"stroke-width:2\" />\n",
       "  <line x1=\"0\" y1=\"90\" x2=\"120\" y2=\"90\" style=\"stroke-width:2\" />\n",
       "\n",
       "  <!-- Vertical lines -->\n",
       "  <line x1=\"0\" y1=\"0\" x2=\"0\" y2=\"90\" style=\"stroke-width:2\" />\n",
       "  <line x1=\"120\" y1=\"0\" x2=\"120\" y2=\"90\" style=\"stroke-width:2\" />\n",
       "\n",
       "  <!-- Colored Rectangle -->\n",
       "  <polygon points=\"0.0,0.0 120.0,0.0 120.0,90.0 0.0,90.0\" style=\"fill:#ECB172A0;stroke-width:0\"/>\n",
       "\n",
       "  <!-- Text -->\n",
       "  <text x=\"60.000000\" y=\"110.000000\" font-size=\"1.0rem\" font-weight=\"100\" text-anchor=\"middle\" >80</text>\n",
       "  <text x=\"140.000000\" y=\"45.000000\" font-size=\"1.0rem\" font-weight=\"100\" text-anchor=\"middle\" transform=\"rotate(0,140.000000,45.000000)\">60</text>\n",
       "</svg> </td>\n",
       "                    </tr>\n",
       "                </tbody>\n",
       "            </table>\n",
       "        </td>\n",
       "    </tr>\n",
       "</table>"
      ],
      "text/plain": [
       "<LazyEBSD, title: , dimensions: (100347|80, 60)>"
      ]
     },
     "execution_count": 77,
     "metadata": {},
     "output_type": "execute_result"
    }
   ],
   "source": [
    "s_dict = mp.get_patterns(O_sample, det2, energy=30, chunk_shape=5000)\n",
    "s_dict"
   ]
  },
  {
   "cell_type": "markdown",
   "id": "df0b56db-a2e4-4777-9763-e8036e3779a4",
   "metadata": {},
   "source": [
    "Create new pattern mask"
   ]
  },
  {
   "cell_type": "code",
   "execution_count": 138,
   "id": "c38d68b9-21fe-4983-8987-db08cb2a0b67",
   "metadata": {},
   "outputs": [],
   "source": [
    "del s2.metadata.Markers"
   ]
  },
  {
   "cell_type": "code",
   "execution_count": 112,
   "id": "f3109c44-c308-4a3d-8314-77002f89e008",
   "metadata": {},
   "outputs": [],
   "source": [
    "bin_factor = 4\n",
    "origin_shift = [-1, -1]\n",
    "r_inner, r_outer = 35 // bin_factor, 160 // bin_factor\n",
    "\n",
    "origin = np.array(s2.detector.shape) // 2\n",
    "origin += origin_shift\n",
    "\n",
    "signal_mask2 = np.ones(s2.detector.shape, dtype=bool)\n",
    "dist = kp.filters.distance_to_origin(signal_mask2.shape, origin=origin)\n",
    "signal_mask2[dist < r_inner] = False\n",
    "signal_mask2[dist > r_outer] = False\n",
    "(s2.inav[0, 30] * signal_mask2).plot(vmin=10_000)"
   ]
  },
  {
   "cell_type": "markdown",
   "id": "95d52ee9-c11c-4eaf-868a-2e8e78f4ee89",
   "metadata": {},
   "source": [
    "Inspect the five first patterns in the dictionary"
   ]
  },
  {
   "cell_type": "code",
   "execution_count": 91,
   "id": "e7d67084-8fa2-405e-98c8-d24c79ba9d4f",
   "metadata": {
    "tags": []
   },
   "outputs": [],
   "source": [
    "fig = plt.figure(figsize=(20, 4), layout=\"tight\")\n",
    "hs.plot.plot_images((s_dict.inav[:5] * signal_mask2), axes_decor=None, per_row=5, fig=fig, colorbar=False);"
   ]
  },
  {
   "cell_type": "markdown",
   "id": "0fe1c3aa-5c33-4750-b5fa-bf890a33d560",
   "metadata": {},
   "source": [
    "Perform dictionary indexing by generating a chunk of simulated patterns at a time and compare them to all the experimental patterns"
   ]
  },
  {
   "cell_type": "code",
   "execution_count": 92,
   "id": "8e3e3fc6-24cd-489c-9ba2-c591edb212c1",
   "metadata": {},
   "outputs": [
    {
     "name": "stdout",
     "output_type": "stream",
     "text": [
      "Dictionary indexing information:\n",
      "  Phase name: au\n",
      "  Matching 3111 experimental pattern(s) to 100347 dictionary pattern(s)\n",
      "  NormalizedCrossCorrelationMetric: float32, greater is better, rechunk: False, navigation mask: False, signal mask: True\n"
     ]
    },
    {
     "name": "stderr",
     "output_type": "stream",
     "text": [
      "100%|███████████████████████████████████████████████████████████████████| 21/21 [00:20<00:00,  1.01it/s]\n"
     ]
    },
    {
     "name": "stdout",
     "output_type": "stream",
     "text": [
      "  Indexing speed: 149.61538 patterns/s, 15013454.53375 comparisons/s\n"
     ]
    }
   ],
   "source": [
    "xmap_di = s2.dictionary_indexing(\n",
    "    s_dict,\n",
    "    signal_mask=~signal_mask2,\n",
    ")"
   ]
  },
  {
   "cell_type": "code",
   "execution_count": 93,
   "id": "fd259e9f-9c99-40f6-bf28-9625f97b0133",
   "metadata": {},
   "outputs": [
    {
     "data": {
      "text/plain": [
       "Phase   Orientations  Name  Space group  Point group  Proper point group     Color\n",
       "    0  3111 (100.0%)    au        Fm-3m         m-3m                 432  tab:blue\n",
       "Properties: scores, simulation_indices\n",
       "Scan unit: um"
      ]
     },
     "execution_count": 93,
     "metadata": {},
     "output_type": "execute_result"
    }
   ],
   "source": [
    "xmap_di"
   ]
  },
  {
   "cell_type": "markdown",
   "id": "50c94541-6160-4aed-af3e-be7b445031a8",
   "metadata": {},
   "source": [
    "The 20 best matches (rotations, scores and simulation indices) are kept"
   ]
  },
  {
   "cell_type": "code",
   "execution_count": 94,
   "id": "ff87aa26-1c75-4dc0-a401-660513659638",
   "metadata": {},
   "outputs": [
    {
     "data": {
      "text/plain": [
       "(3111, 20)"
      ]
     },
     "execution_count": 94,
     "metadata": {},
     "output_type": "execute_result"
    }
   ],
   "source": [
    "xmap_di.scores.shape"
   ]
  },
  {
   "cell_type": "markdown",
   "id": "d40cf5e4-4c4c-448b-92b3-23a01ccc7628",
   "metadata": {},
   "source": [
    "Plot similarity scores (normalized cross-correlation, NCC) between best matching\n",
    "experimental and simulated patterns"
   ]
  },
  {
   "cell_type": "code",
   "execution_count": 95,
   "id": "7cba0b41-7ea5-4f7b-a5e3-6256da200136",
   "metadata": {},
   "outputs": [],
   "source": [
    "xmap_di.plot(xmap_di.scores[:, 0], colorbar=True, colorbar_label=\"NCC\")"
   ]
  },
  {
   "cell_type": "markdown",
   "id": "be69d690-4bb9-4fe0-8583-c7937495b81e",
   "metadata": {},
   "source": [
    "Plot IPF-Z orientation map"
   ]
  },
  {
   "cell_type": "code",
   "execution_count": 96,
   "id": "c48d2b57-3be8-4328-9a99-5880d7645749",
   "metadata": {},
   "outputs": [],
   "source": [
    "rgb_di = ckey.orientation2color(xmap_di.rotations[:, 0])\n",
    "xmap_di.plot(rgb_di)"
   ]
  },
  {
   "cell_type": "markdown",
   "id": "ae771f84-95ed-4667-9927-f9a342140256",
   "metadata": {},
   "source": [
    "Plot IPF-Z orientation map with scores"
   ]
  },
  {
   "cell_type": "code",
   "execution_count": 97,
   "id": "a6f63e4c-516b-491d-aaa5-32af74f3f4f2",
   "metadata": {},
   "outputs": [],
   "source": [
    "xmap_di.plot(rgb_di, overlay=xmap_di.scores[:, 0])"
   ]
  },
  {
   "cell_type": "markdown",
   "id": "33463270-658f-42ab-bc7d-ee4ca627b45f",
   "metadata": {},
   "source": [
    "Save dictionary indexing results to file"
   ]
  },
  {
   "cell_type": "code",
   "execution_count": 98,
   "id": "5a65db4e-15e8-49e6-b195-f25026ca6d96",
   "metadata": {},
   "outputs": [],
   "source": [
    "io.save(path_res / \"xmap_di.h5\", xmap_di, overwrite=True)"
   ]
  },
  {
   "cell_type": "markdown",
   "id": "386d11ba-d121-48a7-ab07-b49fc1539c81",
   "metadata": {},
   "source": [
    "## 6. Orientation refinement\n",
    "\n",
    "During refinement, a better score $r$ is searched for iteratively by changing the orientation (and/or PC) slightly in a controlled manner using an optimization algorithm.\n",
    "The default algorithm is the Nelder-Mead simplex from SciPy.\n",
    "We here use that from the NLopt package (an optional dependency of kikuchipy), which has been found to be faster but equally accurate."
   ]
  },
  {
   "cell_type": "code",
   "execution_count": 114,
   "id": "e8a54298-8592-42e3-b7e1-410dab55e384",
   "metadata": {},
   "outputs": [
    {
     "name": "stdout",
     "output_type": "stream",
     "text": [
      "Refinement information:\n",
      "  Method: LN_NELDERMEAD (local) from NLopt\n",
      "  Trust region (+/-): [2 2 2]\n",
      "  Relative tolerance: 0.0001\n",
      "Refining 3111 orientation(s):\n",
      "[########################################] | 100% Completed | 69.64 ss\n",
      "Refinement speed: 44.66838 patterns/s\n"
     ]
    }
   ],
   "source": [
    "xmap_ref = s.refine_orientation(\n",
    "    xmap=xmap_di,\n",
    "    detector=det1,\n",
    "    master_pattern=mp,\n",
    "    energy=30,\n",
    "    signal_mask=~signal_mask,\n",
    "    method=\"LN_NELDERMEAD\",\n",
    "    trust_region=[2, 2, 2],\n",
    ")"
   ]
  },
  {
   "cell_type": "code",
   "execution_count": 115,
   "id": "1420ded3-96dc-4db3-9bc0-a3818ab6172a",
   "metadata": {},
   "outputs": [
    {
     "data": {
      "text/plain": [
       "Phase   Orientations  Name  Space group  Point group  Proper point group     Color\n",
       "    0  3111 (100.0%)    au        Fm-3m         m-3m                 432  tab:blue\n",
       "Properties: scores, num_evals\n",
       "Scan unit: um"
      ]
     },
     "execution_count": 115,
     "metadata": {},
     "output_type": "execute_result"
    }
   ],
   "source": [
    "xmap_ref"
   ]
  },
  {
   "cell_type": "markdown",
   "id": "2d58400b-2762-48b1-a383-9e02704f0dd3",
   "metadata": {},
   "source": [
    "Plot refined orientation map"
   ]
  },
  {
   "cell_type": "code",
   "execution_count": 144,
   "id": "4ef88980-acce-43c6-a301-0ec39fdf699f",
   "metadata": {},
   "outputs": [],
   "source": [
    "ckey.direction = Vector3d([0, 0, 1])"
   ]
  },
  {
   "cell_type": "code",
   "execution_count": 145,
   "id": "a8a6bd79-c327-49ec-b4bd-9a7c95b33c60",
   "metadata": {
    "tags": []
   },
   "outputs": [],
   "source": [
    "rgb_ref = ckey.orientation2color(xmap_ref.rotations)\n",
    "xmap_ref.plot(rgb_ref)"
   ]
  },
  {
   "cell_type": "markdown",
   "id": "ada82c63-eaee-42bd-8528-a23b25548383",
   "metadata": {},
   "source": [
    "Plot refined NCC scores"
   ]
  },
  {
   "cell_type": "code",
   "execution_count": 117,
   "id": "18dff574-8a6d-4a83-b6c0-7c45caa3281b",
   "metadata": {},
   "outputs": [],
   "source": [
    "xmap_ref.plot(xmap_ref.scores, colorbar=True, colorbar_label=\"NCC\")"
   ]
  },
  {
   "cell_type": "markdown",
   "id": "c703f390-0f22-463e-b0a9-709f9f96161b",
   "metadata": {},
   "source": [
    "Plot orientation map with scores overlayed"
   ]
  },
  {
   "cell_type": "code",
   "execution_count": 118,
   "id": "b181b84d-e186-4906-8a95-ce107194d04e",
   "metadata": {
    "tags": []
   },
   "outputs": [],
   "source": [
    "xmap_ref.plot(rgb_ref, overlay=\"scores\")"
   ]
  },
  {
   "cell_type": "markdown",
   "id": "2c29a675-c476-48cd-a512-225ad0f0d4ae",
   "metadata": {},
   "source": [
    "Compare histogram of scores after DI and refinement"
   ]
  },
  {
   "cell_type": "code",
   "execution_count": 119,
   "id": "79074d5b-d5b8-4578-8193-50626aa39d67",
   "metadata": {},
   "outputs": [],
   "source": [
    "fig, ax = plt.subplots()\n",
    "ax.hist(xmap_di.scores[:, 0], bins=100, color=\"C0\", label=\"DI\", alpha=0.5)\n",
    "ax.hist(xmap_ref.scores, bins=100, color=\"C1\", label=\"Ref\", alpha=0.5)\n",
    "ax.legend()\n",
    "ax.set(xlabel=\"NCC\", ylabel=\"Frequency\");"
   ]
  },
  {
   "cell_type": "markdown",
   "id": "7cafc976-282d-4bf7-a9aa-f4f158cccafd",
   "metadata": {},
   "source": [
    "Save final indexing results"
   ]
  },
  {
   "cell_type": "code",
   "execution_count": 120,
   "id": "a02cb20d-505f-4232-9a89-a812bffc37c1",
   "metadata": {},
   "outputs": [],
   "source": [
    "io.save(path_res / \"xmap_ref.ang\", xmap_ref, overwrite=True)\n",
    "io.save(path_res / \"xmap_ref.h5\", xmap_ref, overwrite=True)"
   ]
  },
  {
   "cell_type": "markdown",
   "id": "04a29ca2-6a3e-4759-940f-af489336fd40",
   "metadata": {},
   "source": [
    "Compare to simulations"
   ]
  },
  {
   "cell_type": "code",
   "execution_count": 126,
   "id": "442ffbdd-eafb-41f4-9b77-051477cef415",
   "metadata": {
    "tags": []
   },
   "outputs": [
    {
     "name": "stdout",
     "output_type": "stream",
     "text": [
      "Finding bands that are in some pattern:\n",
      "[########################################] | 100% Completed | 106.13 ms\n",
      "Finding zone axes that are in some pattern:\n",
      "[########################################] | 100% Completed | 106.89 ms\n",
      "Calculating detector coordinates for bands and zone axes:\n",
      "[########################################] | 100% Completed | 107.14 ms\n"
     ]
    }
   ],
   "source": [
    "sim_ref = simulator.on_detector(det1, xmap_ref.rotations.reshape(*xmap_ref.shape))"
   ]
  },
  {
   "cell_type": "code",
   "execution_count": 66,
   "id": "d715db75-a4a0-41c8-9ee6-77ff0cba4369",
   "metadata": {},
   "outputs": [],
   "source": [
    "s.axes_manager[\"dx\"].scale = s.axes_manager[\"dy\"].scale = 1.0"
   ]
  },
  {
   "cell_type": "code",
   "execution_count": 159,
   "id": "f4a9b859-3801-4cfc-b28c-1079539a388e",
   "metadata": {},
   "outputs": [
    {
     "ename": "IndexError",
     "evalue": "list index out of range",
     "output_type": "error",
     "traceback": [
      "\u001b[0;31m---------------------------------------------------------------------------\u001b[0m",
      "\u001b[0;31mIndexError\u001b[0m                                Traceback (most recent call last)",
      "Cell \u001b[0;32mIn[159], line 1\u001b[0m\n\u001b[0;32m----> 1\u001b[0m \u001b[43msim_ref\u001b[49m\u001b[38;5;241;43m.\u001b[39;49m\u001b[43mplot\u001b[49m\u001b[43m(\u001b[49m\u001b[43m)\u001b[49m\n",
      "File \u001b[0;32m/opt/homebrew/Caskroom/miniforge/base/envs/kp/lib/python3.10/site-packages/kikuchipy/simulations/_kikuchi_pattern_simulation.py:389\u001b[0m, in \u001b[0;36mGeometricalKikuchiPatternSimulation.plot\u001b[0;34m(self, index, coordinates, pattern, lines, zone_axes, zone_axes_labels, pc, pattern_kwargs, lines_kwargs, zone_axes_kwargs, zone_axes_labels_kwargs, pc_kwargs, return_figure)\u001b[0m\n\u001b[1;32m    387\u001b[0m ax \u001b[38;5;241m=\u001b[39m fig\u001b[38;5;241m.\u001b[39maxes[\u001b[38;5;241m0\u001b[39m]\n\u001b[1;32m    388\u001b[0m \u001b[38;5;28;01mfor\u001b[39;00m c \u001b[38;5;129;01min\u001b[39;00m collections:\n\u001b[0;32m--> 389\u001b[0m     \u001b[38;5;28;01mif\u001b[39;00m \u001b[38;5;28misinstance\u001b[39m(c, \u001b[38;5;28mlist\u001b[39m) \u001b[38;5;129;01mand\u001b[39;00m \u001b[38;5;28misinstance\u001b[39m(\u001b[43mc\u001b[49m\u001b[43m[\u001b[49m\u001b[38;5;241;43m0\u001b[39;49m\u001b[43m]\u001b[49m, mtext\u001b[38;5;241m.\u001b[39mText):\n\u001b[1;32m    390\u001b[0m         \u001b[38;5;28;01mfor\u001b[39;00m text_i \u001b[38;5;129;01min\u001b[39;00m c:\n\u001b[1;32m    391\u001b[0m             ax\u001b[38;5;241m.\u001b[39madd_artist(text_i)\n",
      "\u001b[0;31mIndexError\u001b[0m: list index out of range"
     ]
    }
   ],
   "source": [
    "sim_ref.plot()"
   ]
  },
  {
   "cell_type": "code",
   "execution_count": 157,
   "id": "89ab1285-b88a-4ffa-be0b-413c16d73864",
   "metadata": {},
   "outputs": [],
   "source": [
    "markers = sim_ref.as_markers(\n",
    "    zone_axes_labels=True,\n",
    "    lines_kwargs={\"linewidth\": 0.5},\n",
    ")"
   ]
  },
  {
   "cell_type": "code",
   "execution_count": 158,
   "id": "a35ac0c6-cac2-4e63-a2c5-44bc6989f8c3",
   "metadata": {},
   "outputs": [
    {
     "data": {
      "text/plain": [
       "[<marker.LineSegment, line_segment (x1=nan,x2=nan,y1=nan,y2=nan,color=r)>,\n",
       " <marker.LineSegment, line_segment (x1=174.72677102474395,x2=174.72677102474395,y1=174.72677102474395,y2=174.72677102474395,color=r)>,\n",
       " <marker.LineSegment, line_segment (x1=nan,x2=nan,y1=nan,y2=nan,color=r)>,\n",
       " <marker.LineSegment, line_segment (x1=353.62550985309576,x2=353.62550985309576,y1=353.62550985309576,y2=353.62550985309576,color=r)>,\n",
       " <marker.LineSegment, line_segment (x1=nan,x2=nan,y1=nan,y2=nan,color=r)>,\n",
       " <marker.LineSegment, line_segment (x1=nan,x2=nan,y1=nan,y2=nan,color=r)>,\n",
       " <marker.LineSegment, line_segment (x1=nan,x2=nan,y1=nan,y2=nan,color=r)>,\n",
       " <marker.LineSegment, line_segment (x1=33.68077657767036,x2=33.68077657767036,y1=33.68077657767036,y2=33.68077657767036,color=r)>,\n",
       " <marker.LineSegment, line_segment (x1=nan,x2=nan,y1=nan,y2=nan,color=r)>,\n",
       " <marker.LineSegment, line_segment (x1=nan,x2=nan,y1=nan,y2=nan,color=r)>,\n",
       " <marker.LineSegment, line_segment (x1=-47.345124975256475,x2=-47.345124975256475,y1=-47.345124975256475,y2=-47.345124975256475,color=r)>,\n",
       " <marker.LineSegment, line_segment (x1=196.78853445270738,x2=196.78853445270738,y1=196.78853445270738,y2=196.78853445270738,color=r)>,\n",
       " <marker.LineSegment, line_segment (x1=360.9046175259868,x2=360.9046175259868,y1=360.9046175259868,y2=360.9046175259868,color=r)>,\n",
       " <marker.LineSegment, line_segment (x1=nan,x2=nan,y1=nan,y2=nan,color=r)>,\n",
       " <marker.LineSegment, line_segment (x1=-3.359078869094034,x2=-3.359078869094034,y1=-3.359078869094034,y2=-3.359078869094034,color=r)>,\n",
       " <marker.LineSegment, line_segment (x1=-18.67315902229282,x2=-18.67315902229282,y1=-18.67315902229282,y2=-18.67315902229282,color=r)>,\n",
       " <marker.LineSegment, line_segment (x1=nan,x2=nan,y1=nan,y2=nan,color=r)>,\n",
       " <marker.LineSegment, line_segment (x1=231.7033267345121,x2=231.7033267345121,y1=231.7033267345121,y2=231.7033267345121,color=r)>,\n",
       " <marker.LineSegment, line_segment (x1=nan,x2=nan,y1=nan,y2=nan,color=r)>,\n",
       " <marker.LineSegment, line_segment (x1=208.22841891700384,x2=208.22841891700384,y1=208.22841891700384,y2=208.22841891700384,color=r)>,\n",
       " <marker.LineSegment, line_segment (x1=356.54838553980113,x2=356.54838553980113,y1=356.54838553980113,y2=356.54838553980113,color=r)>,\n",
       " <marker.LineSegment, line_segment (x1=nan,x2=nan,y1=nan,y2=nan,color=r)>,\n",
       " <marker.LineSegment, line_segment (x1=nan,x2=nan,y1=nan,y2=nan,color=r)>,\n",
       " <marker.LineSegment, line_segment (x1=nan,x2=nan,y1=nan,y2=nan,color=r)>,\n",
       " <marker.LineSegment, line_segment (x1=nan,x2=nan,y1=nan,y2=nan,color=r)>,\n",
       " <marker.LineSegment, line_segment (x1=88.28194093930713,x2=88.28194093930713,y1=88.28194093930713,y2=88.28194093930713,color=r)>,\n",
       " <marker.LineSegment, line_segment (x1=nan,x2=nan,y1=nan,y2=nan,color=r)>,\n",
       " <marker.LineSegment, line_segment (x1=281.4125663706453,x2=281.4125663706453,y1=281.4125663706453,y2=281.4125663706453,color=r)>,\n",
       " <marker.LineSegment, line_segment (x1=nan,x2=nan,y1=nan,y2=nan,color=r)>,\n",
       " <marker.LineSegment, line_segment (x1=55.732920089915936,x2=55.732920089915936,y1=55.732920089915936,y2=55.732920089915936,color=r)>,\n",
       " <marker.LineSegment, line_segment (x1=90.51817307091815,x2=90.51817307091815,y1=90.51817307091815,y2=90.51817307091815,color=r)>,\n",
       " <marker.LineSegment, line_segment (x1=nan,x2=nan,y1=nan,y2=nan,color=r)>,\n",
       " <marker.LineSegment, line_segment (x1=nan,x2=nan,y1=nan,y2=nan,color=r)>,\n",
       " <marker.LineSegment, line_segment (x1=nan,x2=nan,y1=nan,y2=nan,color=r)>,\n",
       " <marker.LineSegment, line_segment (x1=-57.198716287704514,x2=-57.198716287704514,y1=-57.198716287704514,y2=-57.198716287704514,color=r)>,\n",
       " <marker.LineSegment, line_segment (x1=114.19638488397187,x2=114.19638488397187,y1=114.19638488397187,y2=114.19638488397187,color=r)>,\n",
       " <marker.LineSegment, line_segment (x1=nan,x2=nan,y1=nan,y2=nan,color=r)>,\n",
       " <marker.LineSegment, line_segment (x1=-49.4512168148291,x2=-49.4512168148291,y1=-49.4512168148291,y2=-49.4512168148291,color=r)>,\n",
       " <marker.LineSegment, line_segment (x1=nan,x2=nan,y1=nan,y2=nan,color=r)>,\n",
       " <marker.LineSegment, line_segment (x1=nan,x2=nan,y1=nan,y2=nan,color=r)>,\n",
       " <marker.LineSegment, line_segment (x1=356.02519666955544,x2=356.02519666955544,y1=356.02519666955544,y2=356.02519666955544,color=r)>,\n",
       " <marker.LineSegment, line_segment (x1=338.34467066178416,x2=338.34467066178416,y1=338.34467066178416,y2=338.34467066178416,color=r)>,\n",
       " <marker.LineSegment, line_segment (x1=360.3115154844044,x2=360.3115154844044,y1=360.3115154844044,y2=360.3115154844044,color=r)>,\n",
       " <marker.LineSegment, line_segment (x1=nan,x2=nan,y1=nan,y2=nan,color=r)>]"
      ]
     },
     "execution_count": 158,
     "metadata": {},
     "output_type": "execute_result"
    }
   ],
   "source": [
    "markers"
   ]
  },
  {
   "cell_type": "code",
   "execution_count": 148,
   "id": "ab63bb6a-a739-4b82-82cf-15172b92abc4",
   "metadata": {
    "tags": []
   },
   "outputs": [],
   "source": [
    "del s.metadata.Markers  # Uncomment to delete previously added markers\n",
    "s.add_marker(markers, permanent=True, plot_marker=False)"
   ]
  },
  {
   "cell_type": "markdown",
   "id": "8e8d501e-6a30-41a7-a8ce-a2f33c53468f",
   "metadata": {},
   "source": [
    "Create a navigator from the IPF-Z map"
   ]
  },
  {
   "cell_type": "code",
   "execution_count": 151,
   "id": "40d8a5a3-b2d0-4a15-a5c8-3987dd20a85f",
   "metadata": {
    "tags": []
   },
   "outputs": [],
   "source": [
    "maps_ipf = kp.draw.get_rgb_navigator(rgb_ref.reshape(xmap_ref.shape + (3,)))"
   ]
  },
  {
   "cell_type": "code",
   "execution_count": 152,
   "id": "d98c09f7-9941-481f-8281-11bdc8e3547f",
   "metadata": {
    "tags": []
   },
   "outputs": [
    {
     "data": {
      "application/vnd.jupyter.widget-view+json": {
       "model_id": "b617c8a893694277bdf23237fc9de1bb",
       "version_major": 2,
       "version_minor": 0
      },
      "text/plain": [
       "VBox(children=(FloatText(value=0.0, description='Vmin', disabled=True), FloatText(value=0.0, description='Vmax…"
      ]
     },
     "metadata": {},
     "output_type": "display_data"
    }
   ],
   "source": [
    "s.plot(maps_ipf)"
   ]
  }
 ],
 "metadata": {
  "kernelspec": {
   "display_name": "Python 3 (ipykernel)",
   "language": "python",
   "name": "python3"
  },
  "language_info": {
   "codemirror_mode": {
    "name": "ipython",
    "version": 3
   },
   "file_extension": ".py",
   "mimetype": "text/x-python",
   "name": "python",
   "nbconvert_exporter": "python",
   "pygments_lexer": "ipython3",
   "version": "3.10.14"
  }
 },
 "nbformat": 4,
 "nbformat_minor": 5
}
