{
 "cells": [
  {
   "cell_type": "markdown",
   "id": "ce97f3e0-cdca-4058-87e0-65f69cf37c60",
   "metadata": {},
   "source": [
    "# EBSD/TKD analysis with kikuchipy and HyperSpy\n",
    "\n",
    "## @ NNUM in Oslo, Norway June 4, 2024\n",
    "\n",
    "Håkon Wiik Ånes (hwaanes@gmail.com), Xnovo Technology\n",
    "\n",
    "In this tutorial we'll characterize an on-axis transmission Kikuchi diffraction (TKD) dataset of polycrystalline gold by Hough indexing and pattern matching.\n",
    "We'll evaluate our results by using geometrical TKD simulations and comparing indexing results to pre-indexing maps.\n",
    "\n",
    "The gold dataset is kindly provided by Alice Bastos da Silva from the Technical University of Denmark (DTU).\n",
    "The patterns were acquired using Bruker Nano's on-axis TKD detector and software (Esprit).\n",
    "\n",
    "Steps:\n",
    "\n",
    "1. Load and inspect data\n",
    "2. Specify candidate phases\n",
    "3. Calibrate detector-sample geometry (projection/pattern center)\n",
    "4. Hough indexing\n",
    "5. Dictionary indexing\n",
    "6. Orientation refinement\n",
    "\n",
    "We link to tutorials relevant for each step in the respective sections in *italic*.\n",
    "\n",
    "Documentation of tools we use:\n",
    "\n",
    "* kikuchipy: https://kikuchipy.org\n",
    "* HyperSpy: https://hyperspy.org\n",
    "* PyEBSDIndex: https://pyebsdindex.readthedocs.io\n",
    "* orix: https://orix.readthedocs.io\n",
    "* diffsims: https://diffsims.readthedocs.io\n",
    "* EMsoft (indirectly): https://github.com/EMsoft-org/EMsoft"
   ]
  },
  {
   "cell_type": "markdown",
   "id": "22c37380-72a0-4924-8d4d-c488fbd46a4b",
   "metadata": {},
   "source": [
    "Import all necessary functionality"
   ]
  },
  {
   "cell_type": "code",
   "execution_count": null,
   "id": "398de4ef-43d8-4b27-b5f0-70d1ebe1992e",
   "metadata": {},
   "outputs": [],
   "source": [
    "# Replace 'inline' for 'qt5' (from PyQt5 package) for interactive plotting\n",
    "%matplotlib qt5\n",
    "#%matplotlib inline\n",
    "\n",
    "from pathlib import Path\n",
    "\n",
    "import matplotlib.pyplot as plt\n",
    "import numpy as np\n",
    "\n",
    "from diffsims.crystallography import ReciprocalLatticeVector\n",
    "import hyperspy.api as hs\n",
    "from orix import io, plot, sampling\n",
    "from orix.crystal_map import Phase, PhaseList\n",
    "from orix.quaternion import Orientation, Rotation\n",
    "from orix.vector import Vector3d\n",
    "\n",
    "import kikuchipy as kp\n",
    "\n",
    "\n",
    "savefig_kw = {\"bbox_inches\": \"tight\", \"pad_inches\": 0, \"dpi\": 300}\n",
    "\n",
    "path_data = Path.cwd()\n",
    "path_res = path_data / \"results\"\n",
    "if not path_res.exists():\n",
    "    path_res.mkdir()"
   ]
  },
  {
   "cell_type": "markdown",
   "id": "ff7aa072-e7bb-4e3a-8cf4-06c4c30821ea",
   "metadata": {},
   "source": [
    "## 1. Load and inspect data\n",
    "\n",
    "*Relevant tutorial: https://kikuchipy.org/en/stable/tutorials/load_save_data.html.*"
   ]
  },
  {
   "cell_type": "markdown",
   "id": "1ae23a2c-ca23-4bb7-bf53-fb4af90915bd",
   "metadata": {},
   "source": [
    "Load the 460 MB data into memory"
   ]
  },
  {
   "cell_type": "code",
   "execution_count": null,
   "id": "e6b906b5-a12a-4dbb-9160-ae3e6bd0d339",
   "metadata": {},
   "outputs": [],
   "source": [
    "path_tkd = path_data / \"20nmAu_2019-03-12_02.hdf5\"\n",
    "\n",
    "s = kp.load(path_tkd, lazy=False)"
   ]
  },
  {
   "cell_type": "markdown",
   "id": "c7d3be24-66e5-4566-9f9d-3f44a323ac57",
   "metadata": {},
   "source": [
    "What is the shape and size of my EBSD data?"
   ]
  },
  {
   "cell_type": "code",
   "execution_count": null,
   "id": "f1c25ff2-3a20-45ce-8473-b41889a665c6",
   "metadata": {},
   "outputs": [],
   "source": [
    "s"
   ]
  },
  {
   "cell_type": "code",
   "execution_count": null,
   "id": "3444fd6f-eed2-4c12-9d2b-08e5d6d18f12",
   "metadata": {},
   "outputs": [],
   "source": [
    "s.axes_manager"
   ]
  },
  {
   "cell_type": "code",
   "execution_count": null,
   "id": "a3cdf767-59ed-4af4-aeef-b3a6bc0bcc0d",
   "metadata": {},
   "outputs": [],
   "source": [
    "s.data.shape"
   ]
  },
  {
   "cell_type": "markdown",
   "id": "33206c6d-52d2-4509-8f4f-ed979b0a4c13",
   "metadata": {},
   "source": [
    "Note the flipping of dimensions here: HyperSpy uses (x, y, dx, dy), while NumPy stores the data as (y, x, dy, dx)."
   ]
  },
  {
   "cell_type": "code",
   "execution_count": null,
   "id": "26de8845-40bb-4449-b116-74e307c270ef",
   "metadata": {},
   "outputs": [],
   "source": [
    "s.data.dtype"
   ]
  },
  {
   "cell_type": "markdown",
   "id": "1e7f2ec5-8cde-4816-a591-d8c328b36adb",
   "metadata": {},
   "source": [
    "What information about the experiment is available?"
   ]
  },
  {
   "cell_type": "code",
   "execution_count": null,
   "id": "41394a5e-18b7-4580-b54b-63fb63ee50d0",
   "metadata": {},
   "outputs": [],
   "source": [
    "s.metadata"
   ]
  },
  {
   "cell_type": "code",
   "execution_count": null,
   "id": "71759807-0a91-495c-a944-ec2fbbbb71ea",
   "metadata": {},
   "outputs": [],
   "source": [
    "s.original_metadata"
   ]
  },
  {
   "cell_type": "markdown",
   "id": "3b0b6802-e2ef-474f-b9c0-51b07009e3ee",
   "metadata": {},
   "source": [
    "kikuchipy tries to read extra information specific to EBSD:\n",
    "* Detector-sample calibration\n",
    "* Static background (used to enhance the Kikuchi diffraction signal)\n",
    "* Orientation data (indexing results)"
   ]
  },
  {
   "cell_type": "code",
   "execution_count": null,
   "id": "7b9a041d-c117-411c-8efd-4862b5588146",
   "metadata": {},
   "outputs": [],
   "source": [
    "s.detector"
   ]
  },
  {
   "cell_type": "code",
   "execution_count": null,
   "id": "dfce4c1d-4de2-46d5-aec4-051212c35477",
   "metadata": {},
   "outputs": [],
   "source": [
    "s.static_background"
   ]
  },
  {
   "cell_type": "code",
   "execution_count": null,
   "id": "e78363ec-ee78-4d3c-b358-3239f24b5c73",
   "metadata": {},
   "outputs": [],
   "source": [
    "s.xmap"
   ]
  },
  {
   "cell_type": "code",
   "execution_count": null,
   "id": "5989abe4-bfea-40d4-937f-89ebd6e73377",
   "metadata": {},
   "outputs": [],
   "source": [
    "s.xmap = io.load(path_tkd)\n",
    "s.xmap"
   ]
  },
  {
   "cell_type": "code",
   "execution_count": null,
   "id": "01e5eb00-7502-4f14-98d6-c9acc083a975",
   "metadata": {},
   "outputs": [],
   "source": [
    "s.xmap.plot(\"RadonQuality\")"
   ]
  },
  {
   "cell_type": "markdown",
   "id": "982bcf79-4acc-43d1-bc20-3eb37ba0c7c2",
   "metadata": {},
   "source": [
    "We will produce our own indexing results and use most of the results from Bruker Esprit for comparison only.\n",
    "The exception is the detector-sample calibration, which we will use as a starting guess for a refinement step."
   ]
  },
  {
   "cell_type": "markdown",
   "id": "fe344fac-6357-45a8-b261-6ac811ea7699",
   "metadata": {},
   "source": [
    "### Some pre-indexing maps\n",
    "\n",
    "*Relevant tutorials:*\n",
    "* *https://kikuchipy.org/en/stable/tutorials/feature_maps.html*\n",
    "* *https://kikuchipy.org/en/stable/tutorials/virtual_backscatter_electron_imaging.html*\n",
    "\n",
    "Before indexing, it is important to:\n",
    "\n",
    "* Evaluate the pattern quality\n",
    "* Get an impression of what to expect from the indexing results\n",
    "\n",
    "To that end, we inspect three different pre-indexing maps:\n",
    "\n",
    "* Mean pattern intensity map\n",
    "* Image quality map"
   ]
  },
  {
   "cell_type": "markdown",
   "id": "c0ccf5d9-efa2-4103-a20e-3f3d9d7baa93",
   "metadata": {},
   "source": [
    "Get the mean pattern intensity map by getting the average intensity within each pattern (axis 2 and 3 in our data array)"
   ]
  },
  {
   "cell_type": "code",
   "execution_count": null,
   "id": "6f3e1194-0016-4647-b186-44c2c1a098d8",
   "metadata": {},
   "outputs": [],
   "source": [
    "s_mean = s.mean(axis=(2, 3))\n",
    "plt.imsave(path_res / \"maps_mean.png\", s_mean.data, cmap=\"gray\")\n",
    "s_mean"
   ]
  },
  {
   "cell_type": "markdown",
   "id": "f5274567-0903-4fe2-9cd8-df89ffb11b32",
   "metadata": {},
   "source": [
    "Inspect patterns in this map"
   ]
  },
  {
   "cell_type": "code",
   "execution_count": null,
   "id": "f3476a5e-8f9c-4519-bd6a-07c124aa8b27",
   "metadata": {},
   "outputs": [],
   "source": [
    "s.plot(navigator=s_mean)"
   ]
  },
  {
   "cell_type": "markdown",
   "id": "7a3973d9-6978-46bd-b2e7-fc14e0a092a5",
   "metadata": {},
   "source": [
    "### Enhancement of Kikuchi pattern\n",
    "\n",
    "*Relevant tutorial: https://kikuchipy.org/en/stable/tutorials/pattern_processing.html*."
   ]
  },
  {
   "cell_type": "markdown",
   "id": "61256fe0-a233-4993-b863-4fc22e7ef582",
   "metadata": {},
   "source": [
    "Remove static (constant) background.\n",
    "Instead of using the background acquired in the vendor software, we'll obtain one by averaging all patterns.\n",
    "Before removing the static background, we compare the two static backgrounds."
   ]
  },
  {
   "cell_type": "code",
   "execution_count": null,
   "id": "d963a210-3a68-45cf-9c37-6f28ac9a53fb",
   "metadata": {},
   "outputs": [],
   "source": [
    "bg = s.mean(axis=(0, 1))\n",
    "bg.metadata.General.title = \"Our background\"\n",
    "bg.change_dtype(s.data.dtype)\n",
    "bg"
   ]
  },
  {
   "cell_type": "code",
   "execution_count": null,
   "id": "54a741c1-41f7-488d-9b6e-78c352263d0f",
   "metadata": {},
   "outputs": [],
   "source": [
    "bg2 = kp.signals.EBSD(s.static_background)\n",
    "bg2.metadata.General.title = \"Bruker's background\"\n",
    "print(bg2)\n",
    "bg2.downsample(5)\n",
    "bg2"
   ]
  },
  {
   "cell_type": "code",
   "execution_count": null,
   "id": "b4730a01-05f0-46f9-814f-7873c9b88764",
   "metadata": {},
   "outputs": [],
   "source": [
    "_ = hs.plot.plot_images([bg, bg2], axes_decor=None)"
   ]
  },
  {
   "cell_type": "code",
   "execution_count": null,
   "id": "2438e2fb-a39f-4a5c-a442-9c9ac35e236d",
   "metadata": {},
   "outputs": [],
   "source": [
    "s.remove_static_background(operation=\"divide\", static_bg=bg.data)"
   ]
  },
  {
   "cell_type": "markdown",
   "id": "296b6a66-3076-4bc4-898b-e3e1b28e83fe",
   "metadata": {},
   "source": [
    "Inspect a few (computed on the fly) statically corrected patterns"
   ]
  },
  {
   "cell_type": "code",
   "execution_count": null,
   "id": "305f27fe-e38f-4447-8d02-c5530551779f",
   "metadata": {},
   "outputs": [],
   "source": [
    "s.plot(s_mean)"
   ]
  },
  {
   "cell_type": "markdown",
   "id": "61029cce-8110-43a5-bc53-5be4e86a7d19",
   "metadata": {},
   "source": [
    "Save corrected patterns"
   ]
  },
  {
   "cell_type": "code",
   "execution_count": null,
   "id": "707b03a0-4690-4e6d-b43f-d2bac96101d2",
   "metadata": {},
   "outputs": [],
   "source": [
    "#s.save(\"patterns.h5\")"
   ]
  },
  {
   "cell_type": "markdown",
   "id": "d4150c54-8deb-45b3-b0b0-56a0c13dce9e",
   "metadata": {},
   "source": [
    "### More pre-indexing maps"
   ]
  },
  {
   "cell_type": "markdown",
   "id": "290dbe45-4eaf-4263-982d-50bc4a9933e2",
   "metadata": {},
   "source": [
    "Get image quality $Q$ map (not image quality IQ from Hough indexing!)"
   ]
  },
  {
   "cell_type": "code",
   "execution_count": null,
   "id": "0f25e28d-21fa-4d30-a378-089f6618cf62",
   "metadata": {},
   "outputs": [],
   "source": [
    "maps_iq = s.get_image_quality()\n",
    "plt.imsave(path_res / \"maps_iq.png\", maps_iq, cmap=\"gray\")"
   ]
  },
  {
   "cell_type": "markdown",
   "id": "fd81719b-75fc-452a-94f8-76c5c6760f90",
   "metadata": {},
   "source": [
    "Navigate patterns in $Q$ map"
   ]
  },
  {
   "cell_type": "code",
   "execution_count": null,
   "id": "217fb40f-d313-4fc7-8835-506631b3237e",
   "metadata": {},
   "outputs": [],
   "source": [
    "s.plot(hs.signals.Signal2D(maps_iq), vmin=10_000)"
   ]
  },
  {
   "cell_type": "markdown",
   "id": "53148fef-c9c7-487c-ba28-0a25f5227a29",
   "metadata": {},
   "source": [
    "## 2. Specify candidate phases\n",
    "\n",
    "*Relevant tutorial: https://kikuchipy.org/en/stable/tutorials/kinematical_ebsd_simulations.html.*"
   ]
  },
  {
   "cell_type": "markdown",
   "id": "d8ad725e-1dcb-4094-8f92-88d0eca00645",
   "metadata": {},
   "source": [
    "We do not expect other phases than nickel.\n",
    "We will load the master pattern of nickel (packaged with kikuchipy) created with EMsoft"
   ]
  },
  {
   "cell_type": "code",
   "execution_count": null,
   "id": "c64a1d48-e436-45d2-b8fe-b54b85978b06",
   "metadata": {
    "tags": []
   },
   "outputs": [],
   "source": [
    "path_mp = path_data / \"au_mc_mp_tkd_30kv.h5\"\n",
    "\n",
    "mp = kp.load(path_mp, energy=30, projection=\"lambert\")\n",
    "\n",
    "mp.phase.name = \"au\"\n",
    "mp"
   ]
  },
  {
   "cell_type": "markdown",
   "id": "3acb0143-e01d-4d47-a3a5-6cf6860502e9",
   "metadata": {},
   "source": [
    "Create a phase list for use in Hough indexing, and set the lattice parameters to Ångström"
   ]
  },
  {
   "cell_type": "code",
   "execution_count": null,
   "id": "bc945fde-f07d-4a4a-9927-aeff770eb445",
   "metadata": {
    "tags": []
   },
   "outputs": [],
   "source": [
    "pl = PhaseList(mp.phase)\n",
    "lat = pl[\"au\"].structure.lattice\n",
    "lat.setLatPar(lat.a * 10, lat.b * 10, lat.c * 10)\n",
    "\n",
    "pl"
   ]
  },
  {
   "cell_type": "markdown",
   "id": "895fa8b1-5d26-41e8-88bb-37eb1ca9016f",
   "metadata": {},
   "source": [
    "Also, load the stereographic projection which we will plot later to understand a bit more about simulations"
   ]
  },
  {
   "cell_type": "code",
   "execution_count": null,
   "id": "852c23c0-e52c-4b3b-b148-ada4be2f6f48",
   "metadata": {
    "tags": []
   },
   "outputs": [],
   "source": [
    "mp_sp = kp.load(path_mp, energy=30, projection=\"stereographic\")"
   ]
  },
  {
   "cell_type": "markdown",
   "id": "09bdb658-2dd3-4bbb-a5df-3a6992b65fa8",
   "metadata": {},
   "source": [
    "If we have PyVista (and VTK) installed, we can inspect the Kikuchi sphere in 3D"
   ]
  },
  {
   "cell_type": "code",
   "execution_count": null,
   "id": "cb4be848-4ae5-4bc5-983b-94dfad9ec0f7",
   "metadata": {},
   "outputs": [],
   "source": [
    "#mp_sp.plot_spherical(style=\"points\", plotter_kwargs={\"notebook\": False})"
   ]
  },
  {
   "cell_type": "markdown",
   "id": "ff17f447-7e79-4119-98de-a558f2183238",
   "metadata": {},
   "source": [
    "Otherwise, we'll have to live with the 2D stereographic projection"
   ]
  },
  {
   "cell_type": "code",
   "execution_count": null,
   "id": "baa9f265-3d27-43c5-be91-33cb0fb9271d",
   "metadata": {},
   "outputs": [],
   "source": [
    "mp_sp.plot()"
   ]
  },
  {
   "cell_type": "markdown",
   "id": "0952b847-66d5-4062-b517-564c5206fb88",
   "metadata": {},
   "source": [
    "## 3. Calibrate detector-sample geometry\n",
    "\n",
    "*Relevant tutorials:*\n",
    "* *https://kikuchipy.org/en/stable/tutorials/reference_frames.html*\n",
    "* *https://kikuchipy.org/en/stable/tutorials/pc_extrapolate_plane.html*\n",
    "* *https://kikuchipy.org/en/stable/tutorials/pc_fit_plane.html*\n",
    "* *https://kikuchipy.org/en/stable/tutorials/pc_calibration_moving_screen_technique.html*\n",
    "* *https://kikuchipy.org/en/stable/tutorials/pc_orientation_dependence.html*"
   ]
  },
  {
   "cell_type": "markdown",
   "id": "a313c7b2-b129-4cf7-bc31-411dc2e71784",
   "metadata": {},
   "source": [
    "kikuchipy's reference frames (taken from the documentation):"
   ]
  },
  {
   "attachments": {},
   "cell_type": "markdown",
   "id": "cb0cc5c6-2232-4115-9288-0f699c3ac064",
   "metadata": {},
   "source": [
    "<img src=\"https://kikuchipy.org/en/stable/_images/sample_detector_geometry.png\" width=\"700\">"
   ]
  },
  {
   "cell_type": "markdown",
   "id": "f7fea146-ca74-4d53-bed3-a746d3799db6",
   "metadata": {},
   "source": [
    "Inspect calibration read from the vendor"
   ]
  },
  {
   "cell_type": "code",
   "execution_count": null,
   "id": "60b01a9d-011b-47b9-bb59-28d6002b8e6d",
   "metadata": {},
   "outputs": [],
   "source": [
    "s.detector.sample_tilt = 90.0\n",
    "s.detector"
   ]
  },
  {
   "cell_type": "markdown",
   "id": "c6d87c9c-2af4-46a9-b473-4ef60a721a21",
   "metadata": {},
   "source": [
    "Orientation of detector with respect to the sample:\n",
    "* Known (fixed):\n",
    "    * Sample tilt $\\sigma$ = 90.0 degrees\n",
    "    * Camera tilt $\\theta$ = 5.83 degrees\n",
    "* Unknown (but with a good guess):\n",
    "    * Projection center (PCx, PCy, PCz): Shortest distance from source point to detector\n",
    "\n",
    "Find good-quality calibration patterns to get a mean PC for the data"
   ]
  },
  {
   "cell_type": "code",
   "execution_count": null,
   "id": "de2de01c-930d-4360-8758-8971439a606c",
   "metadata": {},
   "outputs": [],
   "source": [
    "s.plot(hs.signals.Signal2D(maps_iq))"
   ]
  },
  {
   "cell_type": "code",
   "execution_count": null,
   "id": "f662d3dc-7ac7-4f68-8004-87a5af653a54",
   "metadata": {},
   "outputs": [],
   "source": [
    "xy = [\n",
    "    (14, 0),\n",
    "    (10, 12),\n",
    "    (17, 32),\n",
    "    (15, 53),\n",
    "    (37, 51),\n",
    "    (42, 37),\n",
    "    (42, 22),\n",
    "]\n",
    "p_cal = np.zeros((len(xy),) + s.detector.shape, dtype=s.data.dtype)\n",
    "for i, (x, y) in enumerate(xy):\n",
    "    p_cal[i] = s.data[y, x]\n",
    "s_cal = kp.signals.EBSD(p_cal, detector=s.detector)\n",
    "\n",
    "for i, name in zip(range(3), [\"x\", \"dx\", \"dy\"]):\n",
    "    s_cal.axes_manager[i].name = name"
   ]
  },
  {
   "cell_type": "markdown",
   "id": "a6de3f20-1d75-420d-8091-0a42b049774b",
   "metadata": {},
   "source": [
    "Plot pattern positions in an overview image (specific to NORDIF acquisition software)"
   ]
  },
  {
   "cell_type": "code",
   "execution_count": null,
   "id": "18bf9a89-b8b4-4c26-90a2-37bff54e515a",
   "metadata": {
    "tags": []
   },
   "outputs": [],
   "source": [
    "rc = np.array(xy)[:, ::-1]\n",
    "\n",
    "fig = kp.draw.plot_pattern_positions_in_map(\n",
    "    rc=rc,\n",
    "    roi_shape=maps_iq.shape,\n",
    "    roi_image=maps_iq,\n",
    "    color=\"r\",\n",
    "    return_figure=True,\n",
    ")\n",
    "fig.savefig(path_res / \"calibration_pattern_positions.png\", **savefig_kw)"
   ]
  },
  {
   "cell_type": "markdown",
   "id": "c16b8dfb-71f2-48ec-acf4-2b890bd18540",
   "metadata": {},
   "source": [
    "Inspect calibration patterns"
   ]
  },
  {
   "cell_type": "code",
   "execution_count": null,
   "id": "03c100dd-0c0a-4ccc-a7e9-c2f4d50fb1d7",
   "metadata": {},
   "outputs": [],
   "source": [
    "s_cal.plot(None)"
   ]
  },
  {
   "cell_type": "markdown",
   "id": "d0eff1a0-635a-4202-88a7-407416df7db9",
   "metadata": {},
   "source": [
    "Now we're ready to make validate our calibration (estimates of the projection centers, PCs).\n",
    "We do this by optimizing the PCs and use these to Hough index our calibration patterns.\n",
    "\n",
    "Hough indexing requires us to select a few strongly scattering reflections.\n",
    "We select the four typically brighest reflections for gold"
   ]
  },
  {
   "cell_type": "code",
   "execution_count": null,
   "id": "bae300be-8993-4918-8253-ffc2604ce64a",
   "metadata": {
    "tags": []
   },
   "outputs": [],
   "source": [
    "g = ReciprocalLatticeVector(pl[\"au\"], hkl=[[1, 1, 1], [2, 0, 0], [2, 2, 0], [3, 1, 1]])\n",
    "g = g.symmetrise()\n",
    "g.sanitise_phase()  # Complete unit cell\n",
    "g.calculate_structure_factor()\n",
    "g.calculate_theta(30e3)\n",
    "g.print_table()"
   ]
  },
  {
   "cell_type": "markdown",
   "id": "b9c4355a-56d3-47ce-b6e9-e9a7c9a46499",
   "metadata": {},
   "source": [
    "Create a simulator to inspect the reflectors on the Kikuchi sphere (and for later simulations)"
   ]
  },
  {
   "cell_type": "code",
   "execution_count": null,
   "id": "f8ec9007-9663-44a3-8a48-2f6d92f4aabb",
   "metadata": {
    "tags": []
   },
   "outputs": [],
   "source": [
    "simulator = kp.simulations.KikuchiPatternSimulator(g)"
   ]
  },
  {
   "cell_type": "markdown",
   "id": "e395e3cd-f8e1-49b0-86e8-b4e0ca704e48",
   "metadata": {},
   "source": [
    "Plot simulator"
   ]
  },
  {
   "cell_type": "code",
   "execution_count": null,
   "id": "6d8267c7-8e56-43ac-81dd-01291d1161e9",
   "metadata": {
    "tags": []
   },
   "outputs": [],
   "source": [
    "simulator.plot(mode=\"bands\", axes_labels=[\"e1\", \"e2\"])"
   ]
  },
  {
   "cell_type": "markdown",
   "id": "5609f2c4-129a-4859-ae6f-51e6d1c8b196",
   "metadata": {},
   "source": [
    "Generate an indexer for PC optimization and Hough indexing (required by PyEBSDIndex)"
   ]
  },
  {
   "cell_type": "code",
   "execution_count": null,
   "id": "883679d0-17fd-486b-af63-4e0baeaa3094",
   "metadata": {},
   "outputs": [],
   "source": [
    "indexer_cal = s_cal.detector.get_indexer(pl, g)"
   ]
  },
  {
   "cell_type": "markdown",
   "id": "3f84dbb6-9ef9-4d26-9eb8-43e832955edb",
   "metadata": {},
   "source": [
    "Optimize PC by trial and error (the initial guess is based on previous experiments on the same microscope)"
   ]
  },
  {
   "cell_type": "code",
   "execution_count": null,
   "id": "c052d2b6-2f36-44f9-8161-4f905332682c",
   "metadata": {},
   "outputs": [],
   "source": [
    "s.detector"
   ]
  },
  {
   "cell_type": "code",
   "execution_count": null,
   "id": "b449eb1d-69ab-491c-803d-c103209de61c",
   "metadata": {
    "tags": []
   },
   "outputs": [],
   "source": [
    "det_cal = s_cal.hough_indexing_optimize_pc([0.49, 0.44, -0.63], indexer_cal, batch=True, method=\"PSO\")\n",
    "\n",
    "# Print PCs and standard deviations\n",
    "print(\"Mean PC:\\n\", det_cal.pc_average)\n",
    "print(\"Std:\\n\", det_cal.pc.std(axis=0), \"\\n\")\n",
    "print(\"All PCs:\\n\", det_cal.pc)\n",
    "\n",
    "# Get new indexer from detector, using the average PC\n",
    "indexer_cal2 = det_cal.get_indexer(pl)\n",
    "\n",
    "# Index calibration patterns using found PCs\n",
    "xmap_cal = s_cal.hough_indexing(pl, indexer_cal2, verbose=2)\n",
    "print(\"\\nAll indexed:\", xmap_cal.is_indexed.all(), \"\\n\")\n",
    "\n",
    "# Create geometrical simulations for each pattern\n",
    "sim_cal = simulator.on_detector(det_cal, xmap_cal.rotations)"
   ]
  },
  {
   "cell_type": "markdown",
   "id": "c652ce7f-5837-4b1b-ae0e-9b39bb0849fc",
   "metadata": {},
   "source": [
    "Plot patterns with markers"
   ]
  },
  {
   "cell_type": "code",
   "execution_count": null,
   "id": "7e3e8e52-de64-457d-b3d9-85c06883bf10",
   "metadata": {},
   "outputs": [],
   "source": [
    "#del s_cal.metadata.Markers  # Uncomment to delete previous markers\n",
    "markers = sim_cal.as_markers(lines_kwargs={\"linewidth\": 0.5, \"color\": \"r\"})\n",
    "s_cal.add_marker(markers, plot_marker=False, permanent=True)\n",
    "s_cal.plot(None, vmin=10_000)"
   ]
  },
  {
   "cell_type": "markdown",
   "id": "de68dd2f-08be-4fa5-8ca8-a3c537252919",
   "metadata": {},
   "source": [
    "Plot pair of PC coordinates and compare to the map of PC positions from above"
   ]
  },
  {
   "cell_type": "code",
   "execution_count": null,
   "id": "5253a1fc-61ed-449a-8bd5-6e3c1355a02f",
   "metadata": {
    "tags": []
   },
   "outputs": [],
   "source": [
    "det_cal.plot_pc(\"scatter\", annotate=True)"
   ]
  },
  {
   "cell_type": "markdown",
   "id": "0d0c2902-5d1d-44cc-a2d2-3325612e3cd0",
   "metadata": {},
   "source": [
    "Refine PCs using pattern matching"
   ]
  },
  {
   "cell_type": "code",
   "execution_count": null,
   "id": "42f34208-3515-4535-af3a-fa2edecfaca1",
   "metadata": {
    "tags": []
   },
   "outputs": [],
   "source": [
    "xmap_cal2, det_cal2 = s_cal.refine_orientation_projection_center(\n",
    "    xmap_cal,\n",
    "    det_cal,\n",
    "    mp,\n",
    "    energy=30,\n",
    "    method=\"LN_NELDERMEAD\",  # Comment to use SciPy instead\n",
    "    trust_region=[5, 5, 5, 0.1, 0.1, 0.1],\n",
    "    chunk_kwargs={\"chunk_shape\": 1},  # One pattern per CPU\n",
    ")\n",
    "\n",
    "# Create geometrical simulations for each pattern\n",
    "sim_cal2 = simulator.on_detector(det_cal2, xmap_cal2.rotations)"
   ]
  },
  {
   "cell_type": "markdown",
   "id": "75a064de-8b86-4a25-a15e-257285290ca5",
   "metadata": {},
   "source": [
    "Again, plot patterns with markers"
   ]
  },
  {
   "cell_type": "code",
   "execution_count": null,
   "id": "0a285631-63b4-4b91-bbd4-58065b0d3884",
   "metadata": {},
   "outputs": [],
   "source": [
    "markers2 = sim_cal2.as_markers(lines_kwargs={\"linewidth\": 0.5, \"color\": \"w\"})\n",
    "s_cal.add_marker(markers2, plot_marker=False, permanent=True)"
   ]
  },
  {
   "cell_type": "code",
   "execution_count": null,
   "id": "9f75a13e-3d75-416c-83eb-1cb446b457b8",
   "metadata": {},
   "outputs": [],
   "source": [
    "s_cal.plot(None, vmin=10_000)"
   ]
  },
  {
   "cell_type": "markdown",
   "id": "0679d001-8cf6-406b-978f-b2f9b50021c7",
   "metadata": {},
   "source": [
    "We can also compare dynamically simulated equivalents of the experimental patterns"
   ]
  },
  {
   "cell_type": "code",
   "execution_count": null,
   "id": "39d39f25-5c2a-4227-b974-8d1119b30448",
   "metadata": {},
   "outputs": [],
   "source": [
    "sim_cal = mp.get_patterns(xmap_cal2.rotations, det_cal2, compute=True)\n",
    "sim_cal"
   ]
  },
  {
   "cell_type": "markdown",
   "id": "a133c8ab-8b14-4a58-bf06-c3c1a0ab811b",
   "metadata": {},
   "source": [
    "Remove the line markers and stretch intensities for the best visual comparison"
   ]
  },
  {
   "cell_type": "code",
   "execution_count": null,
   "id": "1026eeda-560a-4968-abde-f8cba8605cd3",
   "metadata": {},
   "outputs": [],
   "source": [
    "del s_cal.metadata.Markers\n",
    "\n",
    "s_cal2 = s_cal.deepcopy()\n",
    "s_cal2.normalize_intensity(dtype_out=\"float32\")\n",
    "sim_cal2 = sim_cal.deepcopy()\n",
    "sim_cal2.normalize_intensity(dtype_out=\"float32\")"
   ]
  },
  {
   "cell_type": "code",
   "execution_count": null,
   "id": "8e138fdb-30cd-482d-bc92-665fb5e850d9",
   "metadata": {},
   "outputs": [],
   "source": [
    "hs.plot.plot_signals([s_cal2, sim_cal2], navigator=None, vmin=-3, vmax=3)"
   ]
  },
  {
   "cell_type": "code",
   "execution_count": null,
   "id": "741a3892-e220-44e3-96ba-da12e5a1114e",
   "metadata": {
    "tags": []
   },
   "outputs": [],
   "source": [
    "det_cal2.plot_pc(\"scatter\", annotate=True)"
   ]
  },
  {
   "cell_type": "markdown",
   "id": "ef06cf69-190a-464a-88f7-3f097615fe25",
   "metadata": {},
   "source": [
    "Save detector"
   ]
  },
  {
   "cell_type": "code",
   "execution_count": null,
   "id": "fb3ccc02-01d9-442b-9e7e-51ae41ebadf4",
   "metadata": {
    "tags": []
   },
   "outputs": [],
   "source": [
    "det_cal2.save(path_res / \"det_cal.txt\")"
   ]
  },
  {
   "cell_type": "markdown",
   "id": "b80004bb-4c03-42b7-8671-778da3131129",
   "metadata": {},
   "source": [
    "When the map covers a large area on the sample, the PC moves quite a lot on the detector.\n",
    "This is not the case here, as our map covers about x$ x $y$ = 305 x 255 um^2.\n",
    "It is therefore valid to use a single PC for the whole map, which we will do in the following."
   ]
  },
  {
   "cell_type": "code",
   "execution_count": null,
   "id": "7435b6f6-1c33-497a-a950-79d8f22b59b7",
   "metadata": {},
   "outputs": [],
   "source": [
    "det1 = det_cal2.deepcopy()\n",
    "det1.pc = det1.pc_average"
   ]
  },
  {
   "cell_type": "markdown",
   "id": "f6912dd5-eb88-4430-8b62-21beef12f6e9",
   "metadata": {},
   "source": [
    "## 4. Hough indexing\n",
    "\n",
    "*Relevant tutorials:*\n",
    "* *https://kikuchipy.org/en/stable/tutorials/hough_indexing.html#*\n",
    "* *https://kikuchipy.org/en/stable/tutorials/hybrid_indexing.html*\n",
    "* *https://pyebsdindex.readthedocs.io/en/latest/tutorials/ebsd_index_demo.html*\n",
    "\n",
    "Create a new indexer with the single PC"
   ]
  },
  {
   "cell_type": "code",
   "execution_count": null,
   "id": "3694a4fc-1758-4ed4-b130-1773769df04a",
   "metadata": {
    "tags": []
   },
   "outputs": [],
   "source": [
    "indexer = det1.get_indexer(pl, g)"
   ]
  },
  {
   "cell_type": "markdown",
   "id": "51fd69ce-6d76-4b17-8e14-026ebfed3485",
   "metadata": {},
   "source": [
    "Hough index all patterns"
   ]
  },
  {
   "cell_type": "code",
   "execution_count": null,
   "id": "f8467b1b-542f-4229-be75-487254f5596e",
   "metadata": {
    "tags": []
   },
   "outputs": [],
   "source": [
    "xmap_hi = s.hough_indexing(pl, indexer, verbose=2)"
   ]
  },
  {
   "cell_type": "markdown",
   "id": "07562e86-0f4c-4d9b-ad97-357baabef7d9",
   "metadata": {},
   "source": [
    "Check whether any patterns could not be indexed"
   ]
  },
  {
   "cell_type": "code",
   "execution_count": null,
   "id": "d03f008e-e7d9-4a6c-972f-015c6e6f94d1",
   "metadata": {},
   "outputs": [],
   "source": [
    "xmap_hi"
   ]
  },
  {
   "cell_type": "markdown",
   "id": "92cf8d95-9e7f-49e1-a1a8-54797652a1c6",
   "metadata": {},
   "source": [
    "Save the Hough indexing results"
   ]
  },
  {
   "cell_type": "code",
   "execution_count": null,
   "id": "e9a4a24b-3ae4-41be-bcbd-df14a0074bed",
   "metadata": {
    "tags": []
   },
   "outputs": [],
   "source": [
    "io.save(path_res / \"xmap_hi.h5\", xmap_hi, overwrite=True)"
   ]
  },
  {
   "cell_type": "markdown",
   "id": "ae9a2cd6-b629-4490-a561-cb52fefae959",
   "metadata": {},
   "source": [
    "Plot the indexing quality metrics per pattern"
   ]
  },
  {
   "cell_type": "code",
   "execution_count": null,
   "id": "40a63155-905f-44a8-a042-5ed6fb6236d8",
   "metadata": {},
   "outputs": [],
   "source": [
    "aspect_ratio = xmap_hi.shape[1] / xmap_hi.shape[0]\n",
    "figsize = (10 * aspect_ratio, 10 * aspect_ratio)\n",
    "\n",
    "fig, axes = plt.subplots(nrows=2, ncols=2, figsize=figsize, layout=\"tight\")\n",
    "for ax, to_plot in zip(axes.ravel(), [\"pq\", \"cm\", \"fit\", \"nmatch\"]):\n",
    "    im = ax.imshow(xmap_hi[\"indexed\"].get_map_data(to_plot))\n",
    "    fig.colorbar(im, ax=ax, label=to_plot)\n",
    "    ax.axis(\"off\")"
   ]
  },
  {
   "cell_type": "markdown",
   "id": "83f4b319-cc54-4f6e-9424-8c8ccc74056d",
   "metadata": {},
   "source": [
    "Histograms"
   ]
  },
  {
   "cell_type": "code",
   "execution_count": null,
   "id": "3d8bb268-11a0-4ee3-89f8-dc40d5c90ffb",
   "metadata": {},
   "outputs": [],
   "source": [
    "fig, axes = plt.subplots(nrows=4, figsize=(4, 10), layout=\"tight\")\n",
    "for ax, to_plot in zip(axes.ravel(), [\"pq\", \"cm\", \"fit\", \"nmatch\"]):\n",
    "    _ = ax.hist(xmap_hi[\"indexed\"].prop[to_plot], bins=100)\n",
    "    ax.set(xlabel=to_plot, ylabel=\"Frequency\")\n",
    "    if to_plot == \"pq\":\n",
    "        ax.ticklabel_format(axis=\"x\", style=\"sci\", scilimits=(0, 0))"
   ]
  },
  {
   "cell_type": "markdown",
   "id": "cc747acd-b52d-49b7-b64b-068f7f69a6de",
   "metadata": {},
   "source": [
    "Plot the inverse pole figure IPF-Z map, where colors are given by the (symmetry reduced) crystal direction $\\mathbf{t} = [uvw]$ pointing into-plane"
   ]
  },
  {
   "cell_type": "code",
   "execution_count": null,
   "id": "e5fef600-bd24-4fe1-b648-8384dc4e660e",
   "metadata": {},
   "outputs": [],
   "source": [
    "ckey = plot.IPFColorKeyTSL(xmap_hi.phases[0].point_group, direction=Vector3d([0, 0, 1.]))"
   ]
  },
  {
   "cell_type": "code",
   "execution_count": null,
   "id": "4c63035b-4dff-43a8-beb1-f9cc3b207f4e",
   "metadata": {},
   "outputs": [],
   "source": [
    "ckey.plot()"
   ]
  },
  {
   "cell_type": "code",
   "execution_count": null,
   "id": "5d2060a7-04ab-46e0-9a89-ab5f0fdd450d",
   "metadata": {},
   "outputs": [],
   "source": [
    "rgb_hi = ckey.orientation2color(xmap_hi.rotations)\n",
    "fig_hi = xmap_hi.plot(rgb_hi, return_figure=True)\n",
    "fig_hi.axes[0].set_title(\"PyEBSDIndex\");"
   ]
  },
  {
   "cell_type": "markdown",
   "id": "145a37f9-e991-4041-94f7-23702ae45fb0",
   "metadata": {},
   "source": [
    "Plot the IPF-Z map overlayed with the confidence metric"
   ]
  },
  {
   "cell_type": "code",
   "execution_count": null,
   "id": "e6397826-aaa9-402f-8e08-73fe21a0f39c",
   "metadata": {
    "tags": []
   },
   "outputs": [],
   "source": [
    "xmap_hi.plot(rgb_hi, overlay=\"cm\")"
   ]
  },
  {
   "cell_type": "markdown",
   "id": "5489de7f-fbb1-4561-9edb-1b4fada8970e",
   "metadata": {},
   "source": [
    "Compare to the results from Bruker's software"
   ]
  },
  {
   "cell_type": "code",
   "execution_count": null,
   "id": "073d67b8-4b18-41c6-8067-256bdbe4f69b",
   "metadata": {},
   "outputs": [],
   "source": [
    "R_bruker = s.xmap.rotations\n",
    "R_bruker2kp = Rotation.from_axes_angles([0, 0, 1], 90, degrees=True)\n",
    "\n",
    "rgb_bruker = ckey.orientation2color(R_bruker * R_bruker2kp)\n",
    "fig_bruker = s.xmap.plot(rgb_bruker, return_figure=True)\n",
    "fig_bruker.axes[0].set_title(\"Bruker\");"
   ]
  },
  {
   "cell_type": "markdown",
   "id": "26d60a1a-ba0d-4b22-abd4-5e649984f086",
   "metadata": {},
   "source": [
    "Evaluate results by plotting geometrical simulations on top of patterns"
   ]
  },
  {
   "cell_type": "code",
   "execution_count": null,
   "id": "80e378da-4769-455c-ae60-fc67510a3682",
   "metadata": {},
   "outputs": [],
   "source": [
    "# Temporary fix for a bug!\n",
    "s.axes_manager[\"dx\"].scale = s.axes_manager[\"dy\"].scale = 1."
   ]
  },
  {
   "cell_type": "code",
   "execution_count": null,
   "id": "366262c9-5f74-4e0d-b548-d86c6b1e4a67",
   "metadata": {
    "tags": []
   },
   "outputs": [],
   "source": [
    "sim_hi = simulator.on_detector(det1, xmap_hi.rotations.reshape(*xmap_hi.shape))"
   ]
  },
  {
   "cell_type": "code",
   "execution_count": null,
   "id": "c6cd3c9a-6221-4b68-a434-13902ce7bc00",
   "metadata": {
    "tags": []
   },
   "outputs": [],
   "source": [
    "#del s.metadata.Markers  # Uncomment to delete previously added markers\n",
    "markers = sim_hi.as_markers(lines_kwargs={\"linewidth\": 0.5})\n",
    "s.add_marker(markers, permanent=True, plot_marker=False)"
   ]
  },
  {
   "cell_type": "markdown",
   "id": "a6b117f6-4e7d-450a-b19d-d9b9d6a3b576",
   "metadata": {},
   "source": [
    "Create a navigator from the IPF-Z map"
   ]
  },
  {
   "cell_type": "code",
   "execution_count": null,
   "id": "e66caa77-9fae-4eea-8c73-1956cebda88d",
   "metadata": {
    "tags": []
   },
   "outputs": [],
   "source": [
    "maps_ipf = kp.draw.get_rgb_navigator(rgb_hi.reshape(xmap_hi.shape + (3,)))"
   ]
  },
  {
   "cell_type": "code",
   "execution_count": null,
   "id": "5b19d95a-9d96-43d9-bad6-642a4a724452",
   "metadata": {
    "tags": []
   },
   "outputs": [],
   "source": [
    "s.plot(maps_ipf)"
   ]
  },
  {
   "cell_type": "markdown",
   "id": "9a8874d2-cba8-4993-bab7-6364c86ac3e0",
   "metadata": {},
   "source": [
    "## 5. Dictionary indexing\n",
    "\n",
    "Dictionary indexing is more robust towards noise in EBSD patterns (resulting from e.g. overlapping bands, high degree of deformation etc.) than Hough indexing.\n",
    "A dictionary consists of a series of (dynamically) simulated patterns projected from a master pattern, and we compare all experimental patterns to all these.\n",
    "\n",
    "To create this dictionary, we need:\n",
    "\n",
    "* Accurate detector-sample geometry (already done!)\n",
    "* Master pattern (in the square Lambert projection)\n",
    "* Sampling of all possible orientations (per phase)"
   ]
  },
  {
   "cell_type": "markdown",
   "id": "4969781f-c34b-40dc-b831-4ff68cfbed59",
   "metadata": {},
   "source": [
    "Plot our geometrical simulation on top of the upper stereographic projection of our dynamically simulated Ni Kikuchi sphere"
   ]
  },
  {
   "cell_type": "code",
   "execution_count": null,
   "id": "1f953938-c6bf-42ec-ad58-0a1ee7f5d3f0",
   "metadata": {},
   "outputs": [],
   "source": [
    "fig, ax = plt.subplots(subplot_kw={\"projection\": \"stereographic\"}, figsize=(7, 7))\n",
    "simulator.plot(mode=\"bands\", color=\"w\", figure=fig)\n",
    "ax.imshow(mp_sp.data, cmap=\"gray\", extent=(-1, 1, -1, 1));"
   ]
  },
  {
   "cell_type": "markdown",
   "id": "2e6ff6b9-59b2-4630-b94a-6b3d413eb5ca",
   "metadata": {},
   "source": [
    "Discretely sample the complete orientation space of point group $m\\bar{3}m$ (*Oh*) with an average misorientation of about 2$^{\\circ}$ between rotations $\\mathbf{g}$"
   ]
  },
  {
   "cell_type": "code",
   "execution_count": null,
   "id": "559f5781-fb7d-4bba-b7f6-a441980bb46a",
   "metadata": {},
   "outputs": [],
   "source": [
    "R_sample = sampling.get_sample_fundamental(\n",
    "    resolution=2, point_group=mp.phase.point_group\n",
    ")\n",
    "O_sample = Orientation(R_sample, symmetry=mp.phase.point_group)"
   ]
  },
  {
   "cell_type": "code",
   "execution_count": null,
   "id": "8a07a449-ad86-4cec-ba0d-f0cbb0bad44a",
   "metadata": {},
   "outputs": [],
   "source": [
    "O_sample"
   ]
  },
  {
   "cell_type": "markdown",
   "id": "f6364da1-ed19-45b9-8468-05675d3fa4a2",
   "metadata": {},
   "source": [
    "Plot a subset of sampled orientations in axis-angle space"
   ]
  },
  {
   "cell_type": "code",
   "execution_count": null,
   "id": "4400c698-1dff-4a9f-b80b-dcc272ccdcb3",
   "metadata": {},
   "outputs": [],
   "source": [
    "O_sample.get_random_sample(2000).scatter()"
   ]
  },
  {
   "cell_type": "markdown",
   "id": "11d8e6d4-2f66-4559-aa8a-5485d5db965d",
   "metadata": {},
   "source": [
    "Bin patterns"
   ]
  },
  {
   "cell_type": "code",
   "execution_count": null,
   "id": "de4f37d1-45fc-4834-9b15-bb09f9c5bfe9",
   "metadata": {},
   "outputs": [],
   "source": [
    "s2 = s.downsample(2, inplace=False)\n",
    "s2"
   ]
  },
  {
   "cell_type": "code",
   "execution_count": null,
   "id": "5312b2a4-9dbf-4566-9225-ab9d4060a983",
   "metadata": {},
   "outputs": [],
   "source": [
    "det2 = det1.deepcopy()\n",
    "det2.shape = s2.axes_manager.signal_shape[::-1]"
   ]
  },
  {
   "cell_type": "markdown",
   "id": "7f2031db-f14a-47f2-b686-240c69e01e5b",
   "metadata": {},
   "source": [
    "Set up generation of the dictionary of dynamically simulated patterns"
   ]
  },
  {
   "cell_type": "code",
   "execution_count": null,
   "id": "d7fd47a0-5968-4534-9a86-ede37af7c371",
   "metadata": {},
   "outputs": [],
   "source": [
    "s_dict = mp.get_patterns(R_sample, det2, energy=30, chunk_shape=1000)\n",
    "s_dict"
   ]
  },
  {
   "cell_type": "markdown",
   "id": "95d52ee9-c11c-4eaf-868a-2e8e78f4ee89",
   "metadata": {},
   "source": [
    "Inspect the five first patterns in the dictionary"
   ]
  },
  {
   "cell_type": "code",
   "execution_count": null,
   "id": "e7d67084-8fa2-405e-98c8-d24c79ba9d4f",
   "metadata": {
    "tags": []
   },
   "outputs": [],
   "source": [
    "fig = plt.figure(figsize=(20, 4), layout=\"tight\")\n",
    "hs.plot.plot_images(s_dict.inav[:5], axes_decor=None, per_row=5, fig=fig, colorbar=False);"
   ]
  },
  {
   "cell_type": "markdown",
   "id": "0fe1c3aa-5c33-4750-b5fa-bf890a33d560",
   "metadata": {},
   "source": [
    "Perform dictionary indexing by generating a chunk of simulated patterns at a time and compare them to all the experimental patterns"
   ]
  },
  {
   "cell_type": "code",
   "execution_count": null,
   "id": "8e3e3fc6-24cd-489c-9ba2-c591edb212c1",
   "metadata": {},
   "outputs": [],
   "source": [
    "xmap_di = s2.dictionary_indexing(s_dict)"
   ]
  },
  {
   "cell_type": "code",
   "execution_count": null,
   "id": "fd259e9f-9c99-40f6-bf28-9625f97b0133",
   "metadata": {},
   "outputs": [],
   "source": [
    "xmap_di"
   ]
  },
  {
   "cell_type": "markdown",
   "id": "50c94541-6160-4aed-af3e-be7b445031a8",
   "metadata": {},
   "source": [
    "The 20 best matches (rotations, scores and simulation indices) are kept"
   ]
  },
  {
   "cell_type": "code",
   "execution_count": null,
   "id": "ff87aa26-1c75-4dc0-a401-660513659638",
   "metadata": {},
   "outputs": [],
   "source": [
    "xmap_di.scores.shape"
   ]
  },
  {
   "cell_type": "markdown",
   "id": "d40cf5e4-4c4c-448b-92b3-23a01ccc7628",
   "metadata": {},
   "source": [
    "Plot similarity scores (normalized cross-correlation, NCC) between best matching\n",
    "experimental and simulated patterns"
   ]
  },
  {
   "cell_type": "code",
   "execution_count": null,
   "id": "7cba0b41-7ea5-4f7b-a5e3-6256da200136",
   "metadata": {},
   "outputs": [],
   "source": [
    "xmap_di.plot(xmap_di.scores[:, 0], colorbar=True, colorbar_label=\"NCC\")"
   ]
  },
  {
   "cell_type": "markdown",
   "id": "be69d690-4bb9-4fe0-8583-c7937495b81e",
   "metadata": {},
   "source": [
    "Plot IPF-Z orientation map"
   ]
  },
  {
   "cell_type": "code",
   "execution_count": null,
   "id": "c48d2b57-3be8-4328-9a99-5880d7645749",
   "metadata": {},
   "outputs": [],
   "source": [
    "rgb_di = ckey.orientation2color(xmap_di.rotations[:, 0])\n",
    "xmap_di.plot(rgb_di)"
   ]
  },
  {
   "cell_type": "markdown",
   "id": "ae771f84-95ed-4667-9927-f9a342140256",
   "metadata": {},
   "source": [
    "Plot IPF-Z orientation map with scores"
   ]
  },
  {
   "cell_type": "code",
   "execution_count": null,
   "id": "a6f63e4c-516b-491d-aaa5-32af74f3f4f2",
   "metadata": {},
   "outputs": [],
   "source": [
    "xmap_di.plot(rgb_di, overlay=xmap_di.scores[:, 0])"
   ]
  },
  {
   "cell_type": "markdown",
   "id": "33463270-658f-42ab-bc7d-ee4ca627b45f",
   "metadata": {},
   "source": [
    "Save dictionary indexing results to file"
   ]
  },
  {
   "cell_type": "code",
   "execution_count": null,
   "id": "5a65db4e-15e8-49e6-b195-f25026ca6d96",
   "metadata": {},
   "outputs": [],
   "source": [
    "io.save(path_res / \"xmap_di.h5\", xmap_di, overwrite=True)"
   ]
  },
  {
   "cell_type": "markdown",
   "id": "386d11ba-d121-48a7-ab07-b49fc1539c81",
   "metadata": {},
   "source": [
    "## 6. Orientation refinement\n",
    "\n",
    "During refinement, a better score $r$ is searched for iteratively by changing the orientation (and/or PC) slightly in a controlled manner using an optimization algorithm.\n",
    "The default algorithm is the Nelder-Mead simplex from SciPy.\n",
    "We here use that from the NLopt package (an optional dependency of kikuchipy), which has been found to be faster but equally accurate."
   ]
  },
  {
   "cell_type": "code",
   "execution_count": null,
   "id": "e8a54298-8592-42e3-b7e1-410dab55e384",
   "metadata": {},
   "outputs": [],
   "source": [
    "xmap_ref = s.refine_orientation(\n",
    "    xmap=xmap_di,\n",
    "    detector=det1,\n",
    "    master_pattern=mp,\n",
    "    energy=30,\n",
    "    method=\"LN_NELDERMEAD\",  # Comment to use SciPy instead\n",
    "    trust_region=[2, 2, 2],\n",
    "    rechunk=True,\n",
    ")"
   ]
  },
  {
   "cell_type": "code",
   "execution_count": null,
   "id": "1420ded3-96dc-4db3-9bc0-a3818ab6172a",
   "metadata": {},
   "outputs": [],
   "source": [
    "xmap_ref"
   ]
  },
  {
   "cell_type": "markdown",
   "id": "2d58400b-2762-48b1-a383-9e02704f0dd3",
   "metadata": {},
   "source": [
    "Plot refined orientation map"
   ]
  },
  {
   "cell_type": "code",
   "execution_count": null,
   "id": "a8a6bd79-c327-49ec-b4bd-9a7c95b33c60",
   "metadata": {
    "tags": []
   },
   "outputs": [],
   "source": [
    "rgb_ref = ckey.orientation2color(xmap_ref.rotations)\n",
    "xmap_ref.plot(rgb_ref)"
   ]
  },
  {
   "cell_type": "markdown",
   "id": "ada82c63-eaee-42bd-8528-a23b25548383",
   "metadata": {},
   "source": [
    "Plot map with refined NCC scores"
   ]
  },
  {
   "cell_type": "code",
   "execution_count": null,
   "id": "18dff574-8a6d-4a83-b6c0-7c45caa3281b",
   "metadata": {},
   "outputs": [],
   "source": [
    "xmap_ref.plot(xmap_ref.scores, colorbar=True, colorbar_label=\"NCC\")"
   ]
  },
  {
   "cell_type": "markdown",
   "id": "c703f390-0f22-463e-b0a9-709f9f96161b",
   "metadata": {},
   "source": [
    "Plot orientation map with scores overlayed"
   ]
  },
  {
   "cell_type": "code",
   "execution_count": null,
   "id": "b181b84d-e186-4906-8a95-ce107194d04e",
   "metadata": {
    "tags": []
   },
   "outputs": [],
   "source": [
    "xmap_ref.plot(rgb_ref, overlay=\"scores\")"
   ]
  },
  {
   "cell_type": "markdown",
   "id": "2c29a675-c476-48cd-a512-225ad0f0d4ae",
   "metadata": {},
   "source": [
    "Compare histogram of scores after DI and refinement"
   ]
  },
  {
   "cell_type": "code",
   "execution_count": null,
   "id": "79074d5b-d5b8-4578-8193-50626aa39d67",
   "metadata": {},
   "outputs": [],
   "source": [
    "fig, ax = plt.subplots()\n",
    "ax.hist(xmap_di.scores[:, 0], bins=100, color=\"C0\", label=\"DI\", alpha=0.5)\n",
    "ax.hist(xmap_ref.scores, bins=100, color=\"C1\", label=\"Ref\", alpha=0.5)\n",
    "ax.legend()\n",
    "ax.set(xlabel=\"NCC\", ylabel=\"Frequency\");"
   ]
  },
  {
   "cell_type": "markdown",
   "id": "7cafc976-282d-4bf7-a9aa-f4f158cccafd",
   "metadata": {},
   "source": [
    "Save final indexing results"
   ]
  },
  {
   "cell_type": "code",
   "execution_count": null,
   "id": "a02cb20d-505f-4232-9a89-a812bffc37c1",
   "metadata": {},
   "outputs": [],
   "source": [
    "io.save(path_res / \"xmap_ref.ang\", xmap_ref, overwrite=True)\n",
    "io.save(path_res / \"xmap_ref.h5\", xmap_ref, overwrite=True)"
   ]
  },
  {
   "cell_type": "markdown",
   "id": "04a29ca2-6a3e-4759-940f-af489336fd40",
   "metadata": {},
   "source": [
    "Compare to simulations"
   ]
  },
  {
   "cell_type": "code",
   "execution_count": null,
   "id": "442ffbdd-eafb-41f4-9b77-051477cef415",
   "metadata": {
    "tags": []
   },
   "outputs": [],
   "source": [
    "sim_ref = simulator.on_detector(det1, xmap_ref.rotations.reshape(*xmap_ref.shape))"
   ]
  },
  {
   "cell_type": "code",
   "execution_count": null,
   "id": "89ab1285-b88a-4ffa-be0b-413c16d73864",
   "metadata": {},
   "outputs": [],
   "source": [
    "markers = sim_ref.as_markers(lines_kwargs={\"linewidth\": 0.5})"
   ]
  },
  {
   "cell_type": "code",
   "execution_count": null,
   "id": "ab63bb6a-a739-4b82-82cf-15172b92abc4",
   "metadata": {
    "tags": []
   },
   "outputs": [],
   "source": [
    "del s.metadata.Markers\n",
    "s.add_marker(markers, permanent=True, plot_marker=False)"
   ]
  },
  {
   "cell_type": "markdown",
   "id": "8e8d501e-6a30-41a7-a8ce-a2f33c53468f",
   "metadata": {},
   "source": [
    "Create a navigator from the IPF-Z map"
   ]
  },
  {
   "cell_type": "code",
   "execution_count": null,
   "id": "40d8a5a3-b2d0-4a15-a5c8-3987dd20a85f",
   "metadata": {
    "tags": []
   },
   "outputs": [],
   "source": [
    "maps_ipf = kp.draw.get_rgb_navigator(rgb_ref.reshape(xmap_ref.shape + (3,)))"
   ]
  },
  {
   "cell_type": "code",
   "execution_count": null,
   "id": "d98c09f7-9941-481f-8281-11bdc8e3547f",
   "metadata": {
    "tags": []
   },
   "outputs": [],
   "source": [
    "s.plot(maps_ipf)"
   ]
  },
  {
   "cell_type": "markdown",
   "id": "a915d24a-6a56-449e-bb12-b9875559bfa9",
   "metadata": {},
   "source": [
    "Compare IPF maps from all four indexing routes"
   ]
  },
  {
   "cell_type": "code",
   "execution_count": null,
   "id": "4392b115-fcdf-42a6-b959-e3e7c570f814",
   "metadata": {},
   "outputs": [],
   "source": [
    "fig, axes = plt.subplots(2, 2, figsize=(6, 8), layout=\"tight\")\n",
    "for ax, rgb_i, title in zip(\n",
    "    axes.ravel(),\n",
    "    [rgb_bruker, rgb_hi, rgb_di, rgb_ref],\n",
    "    [\"Bruker\", \"PyEBSDIndex\", \"DI + ref.\", \"DI + ref.\"]\n",
    "):\n",
    "    ax.imshow(rgb_i.reshape(xmap_ref.shape + (3,)))\n",
    "    ax.set_title(title)\n",
    "    ax.axis(\"off\")\n",
    "fig.savefig(path_res / \"maps_ipf001.png\", **savefig_kw)"
   ]
  },
  {
   "cell_type": "markdown",
   "id": "d1a6bc6a-9abd-482b-8d28-ea94744e8933",
   "metadata": {},
   "source": [
    "## What next?\n",
    "\n",
    "We have now indexed our patterns and validated the results.\n",
    "A natural next step in the analysis of the orientation data may be to analyze the grain size and morphology, as well as their preferred orientation (texture).\n",
    "The results produced here can be imported by e.g. [MTEX](https://mtex-toolbox.github.io/) or [DREAM.3D](https://www.dream3d.io/).\n",
    "Happy orientation data analysis!"
   ]
  }
 ],
 "metadata": {
  "kernelspec": {
   "display_name": "Python 3 (ipykernel)",
   "language": "python",
   "name": "python3"
  },
  "language_info": {
   "codemirror_mode": {
    "name": "ipython",
    "version": 3
   },
   "file_extension": ".py",
   "mimetype": "text/x-python",
   "name": "python",
   "nbconvert_exporter": "python",
   "pygments_lexer": "ipython3",
   "version": "3.10.14"
  }
 },
 "nbformat": 4,
 "nbformat_minor": 5
}
